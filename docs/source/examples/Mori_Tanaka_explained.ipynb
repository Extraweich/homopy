{
 "cells": [
  {
   "cell_type": "markdown",
   "metadata": {},
   "source": [
    "# Mori Tanaka: Why symmetrize?"
   ]
  },
  {
   "cell_type": "markdown",
   "metadata": {},
   "source": [
    "The following notebook is intended to explain the various Mori-Tanaka implementations and solution strategies used in HomoPy. The goal is not to derive the equations, but to provide a learning by doing example. A prerequisite is a basic understanding of homogenization methods in the field of elasticity.\n",
    "\n",
    "The starting point is the formulation after Benveniste (1987), which can also be found in Brylka (2017)\n",
    "\n",
    "$$\n",
    "    \\bar{\\mathbb{C}}^{\\text{MT}} = \\mathbb{C}_m + c_f \\left<(\\mathbb{C}_{f,\\alpha} - \\mathbb{C}_m)\\mathbb{A}^{\\text{SIP}}_{f,\\alpha}\\right>_f (c_m\\mathbb{I}^\\text{S}+c_f\\left<\\mathbb{A}^\\text{SIP}_{f,\\alpha}\\right>_f)^{-1},\n",
    "$$\n",
    "\n",
    "where $\\bar{\\mathbb{C}}^{\\text{MT}}$ is the effective stiffness, $\\mathbb{C}_m$ is the matrix stiffness, $\\mathbb{C}_{f,\\alpha}$ is the stiffness of the inclusion of type $\\alpha$, $c_m$ and $c_f$ are the volume fractions of matrix and fiber, respectively, $\\mathbb{A}^{\\text{SIP}}_{f,\\alpha}$ is the strain localization tensor based on Eshelby's solution for the inclusion shape of type $\\alpha$ and $\\mathbb{I}^\\text{S}$ is the symmetric identity of order four. The brackets $\\left< \\cdot \\right>_f$ indicate the fiber volume average.\n",
    "\n",
    "The problem with this formulation is that depending on the different shapes of inclusions and elastic symmetries (isotropy, transverse isotropy, ...) of the constituents, the effective stiffness is not guaranteed to be major symmetric, which violates thermodynamic principles.\n",
    "\n",
    "To demonstrate this, we start with a simple example:"
   ]
  },
  {
   "cell_type": "markdown",
   "metadata": {},
   "source": [
    "First, we assume a single inclusion type, namely carbon fibers aligned with the x-axis in a polyamide-6 matrix. For simplicity, the carbon fiber is assumed to be isotropic, while in reality it should be transverse isotropic."
   ]
  },
  {
   "cell_type": "code",
   "execution_count": 1,
   "metadata": {},
   "outputs": [
    {
     "name": "stdout",
     "output_type": "stream",
     "text": [
      "[[6.0989e+10 1.1464e+09 1.1464e+09 0.0000e+00 0.0000e+00 0.0000e+00]\n",
      " [1.1464e+09 2.7483e+09 1.4048e+09 0.0000e+00 0.0000e+00 0.0000e+00]\n",
      " [1.1464e+09 1.4048e+09 2.7483e+09 0.0000e+00 0.0000e+00 0.0000e+00]\n",
      " [0.0000e+00 0.0000e+00 0.0000e+00 1.3435e+09 0.0000e+00 0.0000e+00]\n",
      " [0.0000e+00 0.0000e+00 0.0000e+00 0.0000e+00 1.4507e+09 0.0000e+00]\n",
      " [0.0000e+00 0.0000e+00 0.0000e+00 0.0000e+00 0.0000e+00 1.4507e+09]]\n"
     ]
    }
   ],
   "source": [
    "import numpy as np\n",
    "\n",
    "np.set_printoptions(linewidth=100, precision=4)\n",
    "\n",
    "from homopy.methods import *\n",
    "from homopy.elasticity import *\n",
    "from homopy.stiffness_plot import *\n",
    "\n",
    "# define fiber and matrix properties\n",
    "carbon_fiber = Isotropy(242e9, 0.1)\n",
    "v_frac_carbon = 0.25\n",
    "a_carbon = 347\n",
    "polyamid6 = Isotropy(1.18e9, 0.35)\n",
    "\n",
    "# define the MT homogenization and print it's effective stiffness\n",
    "mt_carbon = mt_carbon = MoriTanaka(\n",
    "    polyamid6, carbon_fiber, v_frac_carbon, a_carbon, shape=\"ellipsoid\"\n",
    ")\n",
    "print(mt_carbon.effective_stiffness66)\n"
   ]
  },
  {
   "cell_type": "markdown",
   "metadata": {},
   "source": [
    "The result is a symmetric, i.e. thermodynamically consistent, transversely isotropic effective stiffness. The symmetry can also be validated by using"
   ]
  },
  {
   "cell_type": "code",
   "execution_count": 2,
   "metadata": {},
   "outputs": [
    {
     "name": "stdout",
     "output_type": "stream",
     "text": [
      "Left minor symmetry: passed\n",
      "Right minor symmetry: passed\n",
      "Major symmetry: passed\n",
      "\n",
      "\n"
     ]
    }
   ],
   "source": [
    "mt_carbon.is_symmetric()\n"
   ]
  },
  {
   "cell_type": "markdown",
   "metadata": {},
   "source": [
    "So far, there is nothing to complain about. This is due to the fact, that the Mori Tanaka formulation always results in a symmetric stiffness, when the matrix is isotropic, and the **single** inclusion is isotropic.\n",
    "\n",
    "When we add glass fibers (or any other type of inclusion in that sense) to the mix, we suddenly get a different behaviour, as the next example will demonstrate."
   ]
  },
  {
   "cell_type": "code",
   "execution_count": 3,
   "metadata": {},
   "outputs": [
    {
     "name": "stdout",
     "output_type": "stream",
     "text": [
      "[[4.1198e+10 1.2154e+09 1.2154e+09 0.0000e+00 0.0000e+00 0.0000e+00]\n",
      " [1.2155e+09 2.7383e+09 1.3995e+09 0.0000e+00 0.0000e+00 0.0000e+00]\n",
      " [1.2155e+09 1.3995e+09 2.7383e+09 0.0000e+00 0.0000e+00 0.0000e+00]\n",
      " [0.0000e+00 0.0000e+00 0.0000e+00 1.3388e+09 0.0000e+00 0.0000e+00]\n",
      " [0.0000e+00 0.0000e+00 0.0000e+00 0.0000e+00 1.4436e+09 0.0000e+00]\n",
      " [0.0000e+00 0.0000e+00 0.0000e+00 0.0000e+00 0.0000e+00 1.4436e+09]]\n",
      "\n",
      "\n",
      "Left minor symmetry: passed\n",
      "Right minor symmetry: passed\n",
      "Major symmetry: failed\n",
      "The rel. residuum for major sym. is: res = 6.40662189509451e-06\n",
      "\n",
      "\n"
     ]
    }
   ],
   "source": [
    "# define fiberproperties\n",
    "glass_fiber = Isotropy(80e9, 0.22)\n",
    "v_frac_glass = 0.25\n",
    "a_glass = 225\n",
    "\n",
    "# define the MT homogenization and print it's effective stiffness\n",
    "mt_hybrid = MoriTanaka(\n",
    "    polyamid6,\n",
    "    [carbon_fiber, glass_fiber],\n",
    "    [v_frac_carbon / 2, v_frac_glass / 2],\n",
    "    [a_carbon, a_glass],\n",
    "    2 * [\"ellipsoid\"],\n",
    ")\n",
    "print(mt_hybrid.effective_stiffness66)\n",
    "print(\"\\n\")\n",
    "mt_hybrid.is_symmetric()\n"
   ]
  },
  {
   "cell_type": "markdown",
   "metadata": {},
   "source": [
    "We see that the effective stiffness does not contain the major symmetry and thus is not thermodynamically consistent. The relative residuum indicates that the major symmetry is only violated 'a bit', but it is violated. Therefore, a motivation is given to use an alternative algorithm which ensures that the effective stiffness will be symmetric.\n",
    "\n",
    "By abbreviating the classic formulation above with\n",
    "\n",
    "$$\n",
    "    \\bar{\\mathbb{C}}^{\\text{MT}} = \\mathbb{C}_m + c_f \\underbrace{\\left<(\\mathbb{C}_{f,\\alpha} - \\mathbb{C}_m)\\mathbb{A}^{\\text{SIP}}_{f,\\alpha}\\right>_f}_{\\mathbb{X}} \\underbrace{\\left(c_m\\mathbb{I}^\\text{S}+c_f\\left<\\mathbb{A}^\\text{SIP}_{f,\\alpha}\\right>_f\\right)^{-1}}_{\\mathbb{Y}^{-1}},\n",
    "$$\n",
    "\n",
    "[Segura et al. (2023)](https://doi.org/10.1016/j.mechmat.2023.104555) uses the relation\n",
    "\n",
    "$$\n",
    "    \\mathbb{X}\\mathbb{Y}^{-1} = \\left(\\mathbb{Y}\\mathbb{X}^{-1}\\right)^{-1}\n",
    "$$\n",
    "\n",
    "to derive the alternative form\n",
    "\n",
    "$$\n",
    "    \\bar{\\mathbb{C}}^{\\text{MT}} = \\mathbb{C}_m + c_f \n",
    "    \\left( c_m\\left<(\\mathbb{C}_{f,\\alpha} - \\mathbb{C}_m)\\mathbb{A}^{\\text{SIP}}_{f,\\alpha}\\right>_f^{-1}\n",
    "    +c_f\\underbrace{\\left<\\mathbb{A}^\\text{SIP}_{f,\\alpha}\\right>_f \\left<(\\mathbb{C}_{f,\\alpha} - \\mathbb{C}_m)\\mathbb{A}^{\\text{SIP}}_{f,\\alpha}\\right>_f^{-1}}_\\mathbb{Z}\\right)^{-1},\n",
    "$$\n",
    "\n",
    "where the left term in the paranthesis is always symmetric. Therefore, only the right term, i.e. $\\mathbb{Z}$, needs to be symmetrized, to recover the major symmetry, i.e.\n",
    "\n",
    "$$\n",
    "    \\bar{\\mathbb{C}}^{\\text{MT}} = \\mathbb{C}_m + c_f \n",
    "    \\left( c_m\\left<(\\mathbb{C}_{f,\\alpha} - \\mathbb{C}_m)\\mathbb{A}^{\\text{SIP}}_{f,\\alpha}\\right>_f^{-1}\n",
    "    +\\frac{c_f}{2}(\\mathbb{Z}+\\mathbb{Z}^\\mathsf{T})\\right)^{-1}.\n",
    "$$\n",
    "\n",
    "HomoPy uses this formulation, when the 'symmetrize' flag is set to True"
   ]
  },
  {
   "cell_type": "code",
   "execution_count": 4,
   "metadata": {},
   "outputs": [
    {
     "name": "stdout",
     "output_type": "stream",
     "text": [
      "[[4.1198e+10 1.2155e+09 1.2155e+09 0.0000e+00 0.0000e+00 0.0000e+00]\n",
      " [1.2155e+09 2.7383e+09 1.3995e+09 0.0000e+00 0.0000e+00 0.0000e+00]\n",
      " [1.2155e+09 1.3995e+09 2.7383e+09 0.0000e+00 0.0000e+00 0.0000e+00]\n",
      " [0.0000e+00 0.0000e+00 0.0000e+00 1.3388e+09 0.0000e+00 0.0000e+00]\n",
      " [0.0000e+00 0.0000e+00 0.0000e+00 0.0000e+00 1.4436e+09 0.0000e+00]\n",
      " [0.0000e+00 0.0000e+00 0.0000e+00 0.0000e+00 0.0000e+00 1.4436e+09]]\n",
      "\n",
      "\n",
      "Left minor symmetry: passed\n",
      "Right minor symmetry: passed\n",
      "Major symmetry: passed\n",
      "\n",
      "\n"
     ]
    }
   ],
   "source": [
    "mt_hybrid_sym = MoriTanaka(\n",
    "    polyamid6,\n",
    "    [carbon_fiber, glass_fiber],\n",
    "    [v_frac_carbon / 2, v_frac_glass / 2],\n",
    "    [a_carbon, a_glass],\n",
    "    2 * [\"ellipsoid\"],\n",
    "    symmetrize=True,\n",
    ")\n",
    "print(mt_hybrid_sym.effective_stiffness66)\n",
    "print(\"\\n\")\n",
    "mt_hybrid_sym.is_symmetric()\n"
   ]
  }
 ],
 "metadata": {
  "interpreter": {
   "hash": "6a4d04239716f2c6e702d74bc22ca2a1f2359060bfdf3c7f42b1a63d84414d40"
  },
  "kernelspec": {
   "display_name": "Python 3 (ipykernel)",
   "language": "python",
   "name": "python3"
  },
  "language_info": {
   "codemirror_mode": {
    "name": "ipython",
    "version": 3
   },
   "file_extension": ".py",
   "mimetype": "text/x-python",
   "name": "python",
   "nbconvert_exporter": "python",
   "pygments_lexer": "ipython3",
   "version": "3.8.16"
  }
 },
 "nbformat": 4,
 "nbformat_minor": 2
}
