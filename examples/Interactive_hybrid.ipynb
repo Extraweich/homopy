{
 "cells": [
  {
   "cell_type": "markdown",
   "id": "86ea8568",
   "metadata": {},
   "source": [
    "# Interactive Notebook: Hybrid MT vs. HT"
   ]
  },
  {
   "attachments": {},
   "cell_type": "markdown",
   "id": "9d10cc8d",
   "metadata": {},
   "source": [
    "Unfortunately, this Notebook does not render interactively in the docs. If you would like to check out the interactive features, we recommend cloning the repository to your local machine, or using the [Binder](https://mybinder.org/v2/gh/Extraweich/homopy/main?labpath=%2Fexamples%2FHybrid.ipynb) container."
   ]
  },
  {
   "cell_type": "code",
   "execution_count": 1,
   "id": "9a862200",
   "metadata": {},
   "outputs": [],
   "source": [
    "import numpy as np\n",
    "from homopy.elasticity import *\n",
    "from homopy.methods import *\n",
    "from homopy.stiffness_plot import *\n",
    "from homopy.tensor import *"
   ]
  },
  {
   "cell_type": "code",
   "execution_count": 2,
   "id": "9b4250ef",
   "metadata": {},
   "outputs": [],
   "source": [
    "# define fiber and matrix properties for HT\n",
    "\n",
    "# carbon (assuming isotropic fiber)\n",
    "E_carbon = 242e9\n",
    "G_carbon = 105e9\n",
    "nu_carbon = 0.1\n",
    "l_carbon = 1.5e-3\n",
    "r_carbon = 7.2 / 2 * 1e-6\n",
    "vol_carbon = 0.25\n",
    "\n",
    "# glass (is isotropic)\n",
    "E_glass = 80e9\n",
    "nu_glass = 0.22\n",
    "G_glass = 1 / 2 * E_glass / (1 + nu_glass)\n",
    "l_glass = 0.8e-3\n",
    "r_glass = 20 / 2 * 1e-6\n",
    "vol_glass = 0.25\n",
    "\n",
    "# PA6\n",
    "E_pa6 = 1.18e9\n",
    "nu_pa6 = 0.35\n",
    "G_pa6 = 1 / 2 * E_pa6 / (1 + nu_pa6)\n"
   ]
  },
  {
   "cell_type": "code",
   "execution_count": 3,
   "id": "b1c46fd8",
   "metadata": {},
   "outputs": [],
   "source": [
    "# define fiber and matrix properties for MT\n",
    "\n",
    "# carbon\n",
    "carbon_fiber = Isotropy(E_carbon, nu_carbon)\n",
    "v_frac_carbon = vol_carbon\n",
    "a_carbon = l_carbon / (2 * r_carbon)\n",
    "\n",
    "# glass\n",
    "glass_fiber = Isotropy(E_glass, nu_glass)\n",
    "v_frac_glass = vol_glass\n",
    "a_glass = l_glass / (2 * r_glass)\n",
    "\n",
    "# PA6\n",
    "polyamid6 = Isotropy(E_pa6, nu_pa6)\n"
   ]
  },
  {
   "cell_type": "code",
   "execution_count": 4,
   "id": "827f27f0",
   "metadata": {},
   "outputs": [],
   "source": [
    "# create HT and MT objects\n",
    "\n",
    "ht_carbon = HalpinTsai(\n",
    "    E_carbon,\n",
    "    E_pa6,\n",
    "    G_carbon,\n",
    "    G_pa6,\n",
    "    nu_carbon,\n",
    "    nu_pa6,\n",
    "    l_carbon,\n",
    "    r_carbon,\n",
    "    vol_carbon,\n",
    ")\n",
    "\n",
    "ht_glass = HalpinTsai(\n",
    "    E_glass,\n",
    "    E_pa6,\n",
    "    G_glass,\n",
    "    G_pa6,\n",
    "    nu_glass,\n",
    "    nu_pa6,\n",
    "    l_glass,\n",
    "    r_glass,\n",
    "    vol_glass,\n",
    ")\n",
    "\n",
    "\n",
    "mt_hybrid = MoriTanaka(\n",
    "    polyamid6,\n",
    "    [carbon_fiber, glass_fiber],\n",
    "    [v_frac_carbon / 2, v_frac_glass / 2],\n",
    "    [a_carbon, a_glass],\n",
    "    2 * [\"ellipsoid\"],\n",
    "    symmetrize=True,\n",
    ")\n"
   ]
  },
  {
   "cell_type": "code",
   "execution_count": 5,
   "id": "24f16700",
   "metadata": {},
   "outputs": [],
   "source": [
    "# give n fibers a random distribtution and go from here\n",
    "\n",
    "pi = np.pi\n",
    "angle_disc = 1 / 40 * pi  # angle discretization\n",
    "distribution = \"gauss\"\n",
    "\n",
    "# missuse ElasticPlot()\n",
    "plotter = ElasticPlot()\n",
    "\n",
    "n = 1000\n",
    "theta = pi / 2\n",
    "\n",
    "\n",
    "def random_fibers(n, distribution=\"random\", sigma=0.1 * pi, mean_angle=0):\n",
    "    fiber_dirs = []\n",
    "    angles = []\n",
    "    for i in range(n):\n",
    "        if distribution == \"random\":\n",
    "            phi = pi * np.random.rand() - pi / 2  # equally likely -> isotropic\n",
    "        elif distribution == \"gauss\":\n",
    "            phi = np.clip(\n",
    "                np.random.normal(0, sigma), -pi / 2, pi / 2\n",
    "            )  # gaussian distribution -> change values to shift\n",
    "\n",
    "        phi += mean_angle\n",
    "        while np.any(phi > pi / 2) or np.any(phi < -pi / 2):\n",
    "            if phi > pi / 2:\n",
    "                phi -= pi\n",
    "            elif phi < -pi / 2:\n",
    "                phi += pi\n",
    "\n",
    "        fiber_dirs.append(plotter._dir_vec(phi, theta))\n",
    "        angles.append(phi)\n",
    "    return np.array(fiber_dirs), angles\n",
    "\n",
    "\n",
    "fiber_dirs_carbon, angles_carbon = random_fibers(\n",
    "    n, distribution=distribution, sigma=0.1 * pi\n",
    ")\n",
    "fiber_dirs_glass, angles_glass = random_fibers(\n",
    "    n, distribution=distribution, sigma=0.2 * pi\n",
    ")\n",
    "\n",
    "\n",
    "# define function to calculate a discrete planar fiber distribution with a given angle spectrum\n",
    "\n",
    "\n",
    "def get_distribution_histogram(angles, angle_disc):\n",
    "    \"\"\"\n",
    "    Return the discrete orientation probability histogram for measured fiber_dirs.\n",
    "\n",
    "    Paramters:\n",
    "        - angles : array of shape (n,1)\n",
    "            Measured fiber angles.\n",
    "        - angle_spec : float in [0,pi]\n",
    "            Angle spectrum.\n",
    "\n",
    "    Returns:\n",
    "        - angle_probs : ndarray of shape (pi/angle_spec, 1)\n",
    "            Histogram of fiber orientation.\n",
    "    \"\"\"\n",
    "    measurements = len(angles)\n",
    "    angle_probs = []\n",
    "    for i in np.arange(-pi / 2 - angle_disc / 2, pi / 2, angle_disc):\n",
    "        # print(\"[{}, {}, {}]\".format(i, i+angle_spec/2, i + angle_spec))\n",
    "        hits = 0\n",
    "        for angle in angles:\n",
    "            if angle > i and angle <= i + angle_disc:\n",
    "                hits += 1\n",
    "        angle_probs.append([i + angle_disc / 2, hits / measurements])\n",
    "    return angle_probs\n",
    "\n",
    "\n",
    "hist_carbon = np.array(get_distribution_histogram(angles_carbon, angle_disc))\n",
    "hist_glass = np.array(get_distribution_histogram(angles_glass, angle_disc))\n"
   ]
  },
  {
   "cell_type": "code",
   "execution_count": 6,
   "id": "f75a80f9",
   "metadata": {},
   "outputs": [
    {
     "data": {
      "image/png": "[encoded data removed]",
      "text/plain": [
       "<Figure size 432x288 with 1 Axes>"
      ]
     },
     "metadata": {
      "needs_background": "light"
     },
     "output_type": "display_data"
    }
   ],
   "source": [
    "# plot angle distribution\n",
    "\n",
    "import matplotlib.pyplot as plt\n",
    "\n",
    "x_carbon = hist_carbon[:, 0]\n",
    "y_carbon = hist_carbon[:, 1]\n",
    "\n",
    "x_glass = hist_glass[:, 0]\n",
    "y_glass = hist_glass[:, 1]\n",
    "\n",
    "plt.bar(\n",
    "    x_carbon,\n",
    "    y_carbon,\n",
    "    width=angle_disc,\n",
    "    align=\"center\",\n",
    "    color=(27 / 256, 151 / 256, 131 / 256),\n",
    "    edgecolor=\"k\",\n",
    "    alpha=0.5,\n",
    "    label=\"Carbon\",\n",
    ")\n",
    "plt.bar(\n",
    "    x_glass,\n",
    "    y_glass,\n",
    "    width=angle_disc,\n",
    "    align=\"center\",\n",
    "    color=\"mediumorchid\",\n",
    "    edgecolor=\"k\",\n",
    "    alpha=0.5,\n",
    "    label=\"Glass\",\n",
    ")\n",
    "plt.xlabel(\"Angles\")\n",
    "plt.ylabel(\"Probability\")\n",
    "plt.xticks(\n",
    "    np.arange(-pi / 2, pi / 2 + pi / 4, step=(pi / 4)),\n",
    "    [\"-π/2\", \"-π/4\", \"0\", \"π/4\", \"π/2\"],\n",
    ")\n",
    "\n",
    "\n",
    "plt.legend()\n",
    "plt.show()\n"
   ]
  },
  {
   "cell_type": "code",
   "execution_count": 7,
   "id": "e6e5ee4a",
   "metadata": {},
   "outputs": [],
   "source": [
    "# build orientation tensor of 4th and 2nd order\n",
    "\n",
    "\n",
    "def get_N(fiber_dirs):\n",
    "    N4 = np.zeros((3, 3, 3, 3))\n",
    "    for fiber_dir in fiber_dirs:\n",
    "        N4 += np.einsum(\"i,j,k,l->ijkl\", fiber_dir, fiber_dir, fiber_dir, fiber_dir)\n",
    "    N4 /= len(fiber_dirs)\n",
    "    return N4\n",
    "\n",
    "\n",
    "N4_carbon = get_N(fiber_dirs_carbon)\n",
    "N4_glass = get_N(fiber_dirs_glass)\n"
   ]
  },
  {
   "cell_type": "code",
   "execution_count": 8,
   "id": "5cc5c07f",
   "metadata": {},
   "outputs": [],
   "source": [
    "# average MT\n",
    "\n",
    "mt_hybrid.get_average_stiffness([N4_carbon, N4_glass])\n",
    "\n",
    "# build laminate from HT results\n",
    "\n",
    "laminas_carbon = len(angles_carbon) * [ht_carbon.get_effective_stiffness()]\n",
    "laminas_glass = len(angles_glass) * [ht_glass.get_effective_stiffness()]\n",
    "\n",
    "laminas_combined = laminas_carbon + laminas_glass\n",
    "angles_combined = angles_carbon + angles_glass\n",
    "\n",
    "ht_laminate = Laminate(laminas_combined, angles_combined)\n"
   ]
  },
  {
   "cell_type": "code",
   "execution_count": 10,
   "id": "03f6a287",
   "metadata": {},
   "outputs": [
    {
     "data": {
      "image/png": "[encoded data removed]",
      "text/plain": [
       "<Figure size 432x288 with 1 Axes>"
      ]
     },
     "metadata": {
      "needs_background": "light"
     },
     "output_type": "display_data"
    },
    {
     "data": {
      "text/plain": [
       "(<Figure size 432x288 with 1 Axes>,\n",
       " <PolarAxesSubplot:title={'center':\"Young's modulus over angle\"}>)"
      ]
     },
     "execution_count": 10,
     "metadata": {},
     "output_type": "execute_result"
    }
   ],
   "source": [
    "# Compare MT and HT after orientation averaging\n",
    "\n",
    "# mt_hybrid_plot = plotter.polar_plot_E_body(np.linalg.inv(mt_hybrid.effective_stiffness66), 200, 0, plot=True)\n",
    "\n",
    "\n",
    "mt_hybrid_plot_ave = plotter.polar_plot_E_body(\n",
    "    mt_hybrid.effective_stiffness66, 200, plot=False\n",
    ")\n",
    "ht_hybrid_plot_ave = plotter.polar_plot_laminate(\n",
    "    ht_laminate.effective_stiffness33, 1000, plot=False\n",
    ")\n",
    "\n",
    "\n",
    "plotter.polar_plot(\n",
    "    [mt_hybrid_plot_ave + (\"MT Hybrid\",), ht_hybrid_plot_ave + (\"HT Hybrid\",)]\n",
    ")\n"
   ]
  },
  {
   "cell_type": "code",
   "execution_count": 12,
   "id": "dbd5bedb",
   "metadata": {},
   "outputs": [
    {
     "data": {
      "application/vnd.jupyter.widget-view+json": {
       "model_id": "8eb0e83cb1ec472da25f63327f41d6df",
       "version_major": 2,
       "version_minor": 0
      },
      "text/plain": [
       "Output()"
      ]
     },
     "metadata": {},
     "output_type": "display_data"
    },
    {
     "data": {
      "application/vnd.jupyter.widget-view+json": {
       "model_id": "f27112c9e80b429b88be943f84f10be7",
       "version_major": 2,
       "version_minor": 0
      },
      "text/plain": [
       "VBox(children=(HBox(children=(FloatSlider(value=0.1, description='SD carb.:', layout=Layout(width='250px'), ma…"
      ]
     },
     "metadata": {},
     "output_type": "display_data"
    }
   ],
   "source": [
    "\"\"\"\n",
    "Same plot as above, just with %matplotlib inline.\n",
    "The reason for this is that %matplotlib notebook does not seem to be working with\n",
    "binder currently. The above version is kept, because it looks a bit more crispy...\n",
    "\n",
    "This is an interactive plot to show how the fiber distributions of each constituent\n",
    "affects the effective porperties. Open in jupyter notebook to get full interaction\n",
    "support. We recommend using the option Cell -> Current Outputs -> Toggle\n",
    "\"\"\"\n",
    "\n",
    "%matplotlib inline\n",
    "%config InlineBackend.figure_format = 'svg' # makes everything super crispy\n",
    "from ipywidgets import *\n",
    "import numpy as np\n",
    "import matplotlib as mpl\n",
    "import matplotlib.pyplot as plt\n",
    "\n",
    "\n",
    "def update_fiber_dist(sig_c=0.1, dist_c = 'gauss', sig_g=0.2, dist_g = 'gauss', \n",
    "                      vol_c=0.25, vol_g=0.25, mean_angle_c=0, mean_angle_g=0,\n",
    "                      n=1000, angle_disc=1/40*np.pi):\n",
    "    \n",
    "    ht_carbon = HalpinTsai(\n",
    "        E_carbon,\n",
    "        E_pa6,\n",
    "        G_carbon,\n",
    "        G_pa6,\n",
    "        nu_carbon,\n",
    "        nu_pa6,\n",
    "        l_carbon,\n",
    "        r_carbon,\n",
    "        vol_c,\n",
    "    )\n",
    "\n",
    "    ht_glass = HalpinTsai(\n",
    "        E_glass,\n",
    "        E_pa6,\n",
    "        G_glass,\n",
    "        G_pa6,\n",
    "        nu_glass,\n",
    "        nu_pa6,\n",
    "        l_glass,\n",
    "        r_glass,\n",
    "        vol_g,\n",
    "    )\n",
    "    \n",
    "    \n",
    "    fibers_carbon, angles_carbon = random_fibers(n, distribution=dist_c, sigma=sig_c*pi, mean_angle=mean_angle_c)\n",
    "    hist_carbon = np.array(get_distribution_histogram(angles_carbon, angle_disc=angle_disc))\n",
    "    x_carbon = hist_carbon[:,0]\n",
    "    y_carbon = hist_carbon[:,1]\n",
    "        \n",
    "    fibers_glass, angles_glass = random_fibers(n, distribution=dist_g, sigma=sig_g*pi, mean_angle=mean_angle_g)\n",
    "    hist_glass = np.array(get_distribution_histogram(angles_glass, angle_disc=angle_disc))\n",
    "    x_glass = hist_glass[:,0]\n",
    "    y_glass = hist_glass[:,1]\n",
    "        \n",
    "    N4_carbon = get_N(fibers_carbon)\n",
    "    N4_glass = get_N(fibers_glass)\n",
    "    \n",
    "    # mt_hybrid_ave = mt_hybrid.get_average_stiffness([N2_carbon, N2_glass], [N4_carbon, N4_glass], method='benveniste')\n",
    "    \n",
    "    mt_hybrid = MoriTanaka(polyamid6, [carbon_fiber, glass_fiber], [vol_c/2, vol_g/2],\n",
    "                           [a_carbon, a_glass], 2*['ellipsoid'], N4=[N4_carbon, N4_glass], symmetrize=True)\n",
    "\n",
    "    laminas_carbon = len(angles_carbon)*[ht_carbon.get_effective_stiffness()]\n",
    "    laminas_glass = len(angles_glass)*[ht_glass.get_effective_stiffness()]\n",
    "\n",
    "    laminas_combined = laminas_carbon + laminas_glass\n",
    "    angles_combined = angles_carbon + angles_glass\n",
    "\n",
    "    ht_laminate = Laminate(laminas_combined, angles_combined)\n",
    "    \n",
    "    mt_hybrid_plot_ave = plotter.polar_plot_E_body(mt_hybrid.effective_stiffness66, 200, plot=False)\n",
    "    ht_hybrid_plot_ave = plotter.polar_plot_laminate(ht_laminate.effective_stiffness33, 1000, plot=False)\n",
    "        \n",
    "        \n",
    "    fig = plt.figure(figsize=(6,6))\n",
    "    ax1 = plt.subplot(311)\n",
    "    ax1.set_ylim([0, 0.2])\n",
    "\n",
    "\n",
    "    line1 = ax1.bar(x_carbon,y_carbon,width=angle_disc,align='center', color=(27/256,151/256,131/256),edgecolor='k', alpha=0.5, label='Carbon')\n",
    "    line2 = ax1.bar(x_glass,y_glass,width=angle_disc,align='center', color='mediumorchid',edgecolor='k', alpha=0.5, label='Glass')\n",
    "\n",
    "    plt.legend()\n",
    "\n",
    "    ax1.set_xlabel('Angles')\n",
    "    ax1.set_ylabel('Probability')\n",
    "    ax1.set_xticks(np.arange(-pi/2, pi/2+pi/4, step=(pi/4)), ['-π/2','-π/4', '0', 'π/4','π/2'])\n",
    "\n",
    "    ax2 = plt.subplot(212, projection='polar')\n",
    "    ax2.set_ylim([0,6e10])\n",
    "\n",
    "    line3, = ax2.plot(mt_hybrid_plot_ave[0], mt_hybrid_plot_ave[1], label='MT Hybrid')\n",
    "    line4, = ax2.plot(ht_hybrid_plot_ave[0], ht_hybrid_plot_ave[1], label='HT Hybrid')\n",
    "\n",
    "    plt.legend()\n",
    "\n",
    "\n",
    "sig_c = widgets.FloatSlider(value=0.1, min=0.0, max=0.3, step=0.01, description='SD carb.:',\n",
    "                           layout=Layout(width='250px'))\n",
    "sig_g = widgets.FloatSlider(value=0.1,min=0.0, max=0.3, step=0.01, description='SD glass:',\n",
    "                           layout=Layout(width='250px'))\n",
    "mean_angle_c = widgets.FloatSlider(value=0.0, min=-np.pi/2, max=np.pi/2, step=np.pi/16, description='Mean angle carb.:',\n",
    "                           layout=Layout(width='250px'), style = {'description_width': 'initial'})\n",
    "mean_angle_g = widgets.FloatSlider(value=0.0, min=-np.pi/2, max=np.pi/2, step=np.pi/16, description='Mean angle glass:',\n",
    "                           layout=Layout(width='250px'), style = {'description_width': 'initial'})\n",
    "dist_c = widgets.Dropdown(options=['gauss', 'random'],\n",
    "    value='gauss',\n",
    "    disabled=False,\n",
    "    description='Dist. carb.:',\n",
    "    layout=Layout(width='180px')\n",
    ")\n",
    "dist_g = widgets.Dropdown(options=['gauss', 'random'],\n",
    "    value='gauss',\n",
    "    disabled=False,\n",
    "    description='Dist. glass:',\n",
    "    layout=Layout(width='180px')\n",
    ")\n",
    "vol_frac_c = widgets.BoundedFloatText(\n",
    "    value=0.25,\n",
    "    min=0,\n",
    "    max=1,\n",
    "    step=0.01,\n",
    "    description='v_frac carb.:',\n",
    "    disabled=False,\n",
    "    layout=Layout(width='150px')\n",
    ")\n",
    "vol_frac_g = widgets.BoundedFloatText(\n",
    "    value=0.25,\n",
    "    min=0,\n",
    "    max=1,\n",
    "    step=0.01,\n",
    "    description='v_frac glass:',\n",
    "    disabled=False,\n",
    "    layout=Layout(width='150px')\n",
    ")\n",
    "\n",
    "HBox_carbon = widgets.HBox([sig_c,dist_c,vol_frac_c,mean_angle_c])\n",
    "HBox_glass = widgets.HBox([sig_g,dist_g,vol_frac_g,mean_angle_g])\n",
    "ui = widgets.VBox([HBox_carbon, HBox_glass])\n",
    "\n",
    "out = widgets.interactive_output(update_fiber_dist, {'sig_c': sig_c, 'dist_c': dist_c, 'sig_g': sig_g,\n",
    "                                                    'dist_g': dist_g, 'vol_c': vol_frac_c,\n",
    "                                                    'vol_g': vol_frac_g, 'mean_angle_c': mean_angle_c,\n",
    "                                                    'mean_angle_g': mean_angle_g})\n",
    "\n",
    "display(out, ui)"
   ]
  }
 ],
 "metadata": {
  "kernelspec": {
   "display_name": "HomoPy",
   "language": "python",
   "name": "python3"
  },
  "language_info": {
   "codemirror_mode": {
    "name": "ipython",
    "version": 3
   },
   "file_extension": ".py",
   "mimetype": "text/x-python",
   "name": "python",
   "nbconvert_exporter": "python",
   "pygments_lexer": "ipython3",
   "version": "3.9.20"
  },
  "vscode": {
   "interpreter": {
    "hash": "6a4d04239716f2c6e702d74bc22ca2a1f2359060bfdf3c7f42b1a63d84414d40"
   }
  },
  "widgets": {
   "application/vnd.jupyter.widget-state+json": {
    "state": {
     "0041d86ee4b64c35874792c06f7a48b6": {
      "model_module": "@jupyter-widgets/controls",
      "model_module_version": "2.0.0",
      "model_name": "DescriptionStyleModel",
      "state": {
       "description_width": ""
      }
     },
     "041c7514aa9c49bbaa4bfadc6d897af9": {
      "model_module": "@jupyter-widgets/controls",
      "model_module_version": "2.0.0",
      "model_name": "FloatSliderModel",
      "state": {
       "behavior": "drag-tap",
       "description": "Mean angle carb.:",
       "layout": "IPY_MODEL_2adfcfaed77f4eb2b7c4f764f7363d64",
       "max": 1.5707963267948966,
       "min": -1.5707963267948966,
       "step": 0.19634954084936207,
       "style": "IPY_MODEL_fc1edd9d3dd0497facdd379821c299ae"
      }
     },
     "175d1ff7ac1d4a2cad1887ea45329440": {
      "model_module": "@jupyter-widgets/base",
      "model_module_version": "2.0.0",
      "model_name": "LayoutModel",
      "state": {
       "width": "150px"
      }
     },
     "19865ccc15d64917be125eac6518c5dd": {
      "model_module": "@jupyter-widgets/controls",
      "model_module_version": "2.0.0",
      "model_name": "BoundedFloatTextModel",
      "state": {
       "description": "v_frac carb.:",
       "layout": "IPY_MODEL_99481f1d48334dc89e58ad76aded7838",
       "max": 1,
       "step": 0.01,
       "style": "IPY_MODEL_9fccdb89e1dc4c43ba871b67caac62a0",
       "value": 0.25
      }
     },
     "2adfcfaed77f4eb2b7c4f764f7363d64": {
      "model_module": "@jupyter-widgets/base",
      "model_module_version": "2.0.0",
      "model_name": "LayoutModel",
      "state": {
       "width": "250px"
      }
     },
     "40c4f0623af949058aa8f080baa401e1": {
      "model_module": "@jupyter-widgets/controls",
      "model_module_version": "2.0.0",
      "model_name": "HBoxModel",
      "state": {
       "children": [
        "IPY_MODEL_5c6cc53b0b31453f82ad3a5699f74766",
        "IPY_MODEL_9675f38b98ff4bf893c01ce047b083a1",
        "IPY_MODEL_19865ccc15d64917be125eac6518c5dd",
        "IPY_MODEL_041c7514aa9c49bbaa4bfadc6d897af9"
       ],
       "layout": "IPY_MODEL_c5d5e36732ab4c0282c625f40a504c61"
      }
     },
     "4d72228fc048414e95d65f6b224ce3ee": {
      "model_module": "@jupyter-widgets/base",
      "model_module_version": "2.0.0",
      "model_name": "LayoutModel",
      "state": {}
     },
     "4e1d0c540111453780215a7928bd635e": {
      "model_module": "@jupyter-widgets/controls",
      "model_module_version": "2.0.0",
      "model_name": "SliderStyleModel",
      "state": {
       "description_width": ""
      }
     },
     "596577835406428996b5f6586f779e08": {
      "model_module": "@jupyter-widgets/controls",
      "model_module_version": "2.0.0",
      "model_name": "SliderStyleModel",
      "state": {
       "description_width": ""
      }
     },
     "5c6cc53b0b31453f82ad3a5699f74766": {
      "model_module": "@jupyter-widgets/controls",
      "model_module_version": "2.0.0",
      "model_name": "FloatSliderModel",
      "state": {
       "behavior": "drag-tap",
       "description": "SD carb.:",
       "layout": "IPY_MODEL_cfcaf313e43d4205a51cb43e1def732a",
       "max": 0.3,
       "step": 0.01,
       "style": "IPY_MODEL_596577835406428996b5f6586f779e08",
       "value": 0.1
      }
     },
     "6a08f6d70e9848fea8b75918ad07db17": {
      "model_module": "@jupyter-widgets/controls",
      "model_module_version": "2.0.0",
      "model_name": "FloatSliderModel",
      "state": {
       "behavior": "drag-tap",
       "description": "SD glass:",
       "layout": "IPY_MODEL_9074d0c204ad40cebae8ad189be9f15b",
       "max": 0.3,
       "step": 0.01,
       "style": "IPY_MODEL_4e1d0c540111453780215a7928bd635e",
       "value": 0.1
      }
     },
     "6bc1fdb055b94dbf8d52e90bc5ded594": {
      "model_module": "@jupyter-widgets/controls",
      "model_module_version": "2.0.0",
      "model_name": "FloatSliderModel",
      "state": {
       "behavior": "drag-tap",
       "description": "Mean angle glass:",
       "layout": "IPY_MODEL_bf3aae04c5e64fce92877896cd471af6",
       "max": 1.5707963267948966,
       "min": -1.5707963267948966,
       "step": 0.19634954084936207,
       "style": "IPY_MODEL_81e014e9a00042ed9a3b17759d0889b8"
      }
     },
     "6f9e45c3bcd44f6cabb3c24c91b25b51": {
      "model_module": "@jupyter-widgets/controls",
      "model_module_version": "2.0.0",
      "model_name": "BoundedFloatTextModel",
      "state": {
       "description": "v_frac glass:",
       "layout": "IPY_MODEL_175d1ff7ac1d4a2cad1887ea45329440",
       "max": 1,
       "step": 0.01,
       "style": "IPY_MODEL_7441b3395dcc42fab071ce280ee33706",
       "value": 0.25
      }
     },
     "7441b3395dcc42fab071ce280ee33706": {
      "model_module": "@jupyter-widgets/controls",
      "model_module_version": "2.0.0",
      "model_name": "DescriptionStyleModel",
      "state": {
       "description_width": ""
      }
     },
     "81e014e9a00042ed9a3b17759d0889b8": {
      "model_module": "@jupyter-widgets/controls",
      "model_module_version": "2.0.0",
      "model_name": "SliderStyleModel",
      "state": {
       "description_width": "initial"
      }
     },
     "8b05dd07becf479a9a9d8c2474cc136b": {
      "model_module": "@jupyter-widgets/controls",
      "model_module_version": "2.0.0",
      "model_name": "DropdownModel",
      "state": {
       "_options_labels": [
        "gauss",
        "random"
       ],
       "description": "Dist. glass:",
       "index": 0,
       "layout": "IPY_MODEL_fef3e71b7970415caec7e600531be1c2",
       "style": "IPY_MODEL_a2dc948728ac43e49904ca8a58d556a0"
      }
     },
     "9074d0c204ad40cebae8ad189be9f15b": {
      "model_module": "@jupyter-widgets/base",
      "model_module_version": "2.0.0",
      "model_name": "LayoutModel",
      "state": {
       "width": "250px"
      }
     },
     "9675f38b98ff4bf893c01ce047b083a1": {
      "model_module": "@jupyter-widgets/controls",
      "model_module_version": "2.0.0",
      "model_name": "DropdownModel",
      "state": {
       "_options_labels": [
        "gauss",
        "random"
       ],
       "description": "Dist. carb.:",
       "index": 0,
       "layout": "IPY_MODEL_beab380da6a14f029af1444c2197bad3",
       "style": "IPY_MODEL_0041d86ee4b64c35874792c06f7a48b6"
      }
     },
     "99481f1d48334dc89e58ad76aded7838": {
      "model_module": "@jupyter-widgets/base",
      "model_module_version": "2.0.0",
      "model_name": "LayoutModel",
      "state": {
       "width": "150px"
      }
     },
     "9fccdb89e1dc4c43ba871b67caac62a0": {
      "model_module": "@jupyter-widgets/controls",
      "model_module_version": "2.0.0",
      "model_name": "DescriptionStyleModel",
      "state": {
       "description_width": ""
      }
     },
     "a2dc948728ac43e49904ca8a58d556a0": {
      "model_module": "@jupyter-widgets/controls",
      "model_module_version": "2.0.0",
      "model_name": "DescriptionStyleModel",
      "state": {
       "description_width": ""
      }
     },
     "a980e5d637f746dd9661164055b5a675": {
      "model_module": "@jupyter-widgets/controls",
      "model_module_version": "2.0.0",
      "model_name": "VBoxModel",
      "state": {
       "children": [
        "IPY_MODEL_40c4f0623af949058aa8f080baa401e1",
        "IPY_MODEL_f480ca414a9d4918bd45c6f84b4532f6"
       ],
       "layout": "IPY_MODEL_a9c619cb80e942b4bd569d3fabc709b9"
      }
     },
     "a9c619cb80e942b4bd569d3fabc709b9": {
      "model_module": "@jupyter-widgets/base",
      "model_module_version": "2.0.0",
      "model_name": "LayoutModel",
      "state": {}
     },
     "ba0b649e5a844c27baf4b0f216cb088a": {
      "model_module": "@jupyter-widgets/output",
      "model_module_version": "1.0.0",
      "model_name": "OutputModel",
      "state": {
       "layout": "IPY_MODEL_4d72228fc048414e95d65f6b224ce3ee",
       "outputs": [
        {
         "data": {
          "image/svg+xml": "<?xml version=\"1.0\" encoding=\"utf-8\" standalone=\"no\"?>\n<!DOCTYPE svg PUBLIC \"-//W3C//DTD SVG 1.1//EN\"\n  \"http://www.w3.org/Graphics/SVG/1.1/DTD/svg11.dtd\">\n<svg xmlns:xlink=\"http://www.w3.org/1999/xlink\" width=\"392.14375pt\" height=\"369.678281pt\" viewBox=\"0 0 392.14375 369.678281\" xmlns=\"http://www.w3.org/2000/svg\" version=\"1.1\">\n <metadata>\n  <rdf:RDF xmlns:dc=\"http://purl.org/dc/elements/1.1/\" xmlns:cc=\"http://creativecommons.org/ns#\" xmlns:rdf=\"http://www.w3.org/1999/02/22-rdf-syntax-ns#\">\n   <cc:Work>\n    <dc:type rdf:resource=\"http://purl.org/dc/dcmitype/StillImage\"/>\n    <dc:date>2023-02-14T09:40:15.197385</dc:date>\n    <dc:format>image/svg+xml</dc:format>\n    <dc:creator>\n     <cc:Agent>\n      <dc:title>Matplotlib v3.6.1, https://matplotlib.org/</dc:title>\n     </cc:Agent>\n    </dc:creator>\n   </cc:Work>\n  </rdf:RDF>\n </metadata>\n <defs>\n  <style type=\"text/css\">*{stroke-linejoin: round; stroke-linecap: butt}</style>\n </defs>\n <g id=\"figure_1\">\n  <g id=\"patch_1\">\n   <path d=\"M 0 369.678281 \nL 392.14375 369.678281 \nL 392.14375 -0 \nL 0 -0 \nz\n\" style=\"fill: #ffffff\"/>\n  </g>\n  <g id=\"axes_1\">\n   <g id=\"patch_2\">\n    <path d=\"M 50.14375 108.834513 \nL 384.94375 108.834513 \nL 384.94375 10.999219 \nL 50.14375 10.999219 \nz\n\" style=\"fill: #ffffff\"/>\n   </g>\n   <g id=\"patch_3\">\n    <path d=\"M 65.361932 108.834513 \nL 72.785435 108.834513 \nL 72.785435 108.834513 \nL 65.361932 108.834513 \nz\n\" clip-path=\"url(#pe4dabd1cd1)\" style=\"fill: #1b9682; opacity: 0.5; stroke: #000000; stroke-linejoin: miter\"/>\n   </g>\n   <g id=\"patch_4\">\n    <path d=\"M 72.785435 108.834513 \nL 80.208938 108.834513 \nL 80.208938 108.834513 \nL 72.785435 108.834513 \nz\n\" clip-path=\"url(#pe4dabd1cd1)\" style=\"fill: #1b9682; opacity: 0.5; stroke: #000000; stroke-linejoin: miter\"/>\n   </g>\n   <g id=\"patch_5\">\n    <path d=\"M 80.208938 108.834513 \nL 87.632442 108.834513 \nL 87.632442 108.834513 \nL 80.208938 108.834513 \nz\n\" clip-path=\"url(#pe4dabd1cd1)\" style=\"fill: #1b9682; opacity: 0.5; stroke: #000000; stroke-linejoin: miter\"/>\n   </g>\n   <g id=\"patch_6\">\n    <path d=\"M 87.632442 108.834513 \nL 95.055945 108.834513 \nL 95.055945 108.834513 \nL 87.632442 108.834513 \nz\n\" clip-path=\"url(#pe4dabd1cd1)\" style=\"fill: #1b9682; opacity: 0.5; stroke: #000000; stroke-linejoin: miter\"/>\n   </g>\n   <g id=\"patch_7\">\n    <path d=\"M 95.055945 108.834513 \nL 102.479448 108.834513 \nL 102.479448 108.834513 \nL 95.055945 108.834513 \nz\n\" clip-path=\"url(#pe4dabd1cd1)\" style=\"fill: #1b9682; opacity: 0.5; stroke: #000000; stroke-linejoin: miter\"/>\n   </g>\n   <g id=\"patch_8\">\n    <path d=\"M 102.479448 108.834513 \nL 109.902952 108.834513 \nL 109.902952 108.834513 \nL 102.479448 108.834513 \nz\n\" clip-path=\"url(#pe4dabd1cd1)\" style=\"fill: #1b9682; opacity: 0.5; stroke: #000000; stroke-linejoin: miter\"/>\n   </g>\n   <g id=\"patch_9\">\n    <path d=\"M 109.902952 108.834513 \nL 117.326455 108.834513 \nL 117.326455 108.345336 \nL 109.902952 108.345336 \nz\n\" clip-path=\"url(#pe4dabd1cd1)\" style=\"fill: #1b9682; opacity: 0.5; stroke: #000000; stroke-linejoin: miter\"/>\n   </g>\n   <g id=\"patch_10\">\n    <path d=\"M 117.326455 108.834513 \nL 124.749958 108.834513 \nL 124.749958 108.345336 \nL 117.326455 108.345336 \nz\n\" clip-path=\"url(#pe4dabd1cd1)\" style=\"fill: #1b9682; opacity: 0.5; stroke: #000000; stroke-linejoin: miter\"/>\n   </g>\n   <g id=\"patch_11\">\n    <path d=\"M 124.749958 108.834513 \nL 132.173462 108.834513 \nL 132.173462 107.85616 \nL 124.749958 107.85616 \nz\n\" clip-path=\"url(#pe4dabd1cd1)\" style=\"fill: #1b9682; opacity: 0.5; stroke: #000000; stroke-linejoin: miter\"/>\n   </g>\n   <g id=\"patch_12\">\n    <path d=\"M 132.173462 108.834513 \nL 139.596965 108.834513 \nL 139.596965 107.366983 \nL 132.173462 107.366983 \nz\n\" clip-path=\"url(#pe4dabd1cd1)\" style=\"fill: #1b9682; opacity: 0.5; stroke: #000000; stroke-linejoin: miter\"/>\n   </g>\n   <g id=\"patch_13\">\n    <path d=\"M 139.596965 108.834513 \nL 147.020468 108.834513 \nL 147.020468 105.410278 \nL 139.596965 105.410278 \nz\n\" clip-path=\"url(#pe4dabd1cd1)\" style=\"fill: #1b9682; opacity: 0.5; stroke: #000000; stroke-linejoin: miter\"/>\n   </g>\n   <g id=\"patch_14\">\n    <path d=\"M 147.020468 108.834513 \nL 154.443972 108.834513 \nL 154.443972 105.410278 \nL 147.020468 105.410278 \nz\n\" clip-path=\"url(#pe4dabd1cd1)\" style=\"fill: #1b9682; opacity: 0.5; stroke: #000000; stroke-linejoin: miter\"/>\n   </g>\n   <g id=\"patch_15\">\n    <path d=\"M 154.443972 108.834513 \nL 161.867475 108.834513 \nL 161.867475 101.496866 \nL 154.443972 101.496866 \nz\n\" clip-path=\"url(#pe4dabd1cd1)\" style=\"fill: #1b9682; opacity: 0.5; stroke: #000000; stroke-linejoin: miter\"/>\n   </g>\n   <g id=\"patch_16\">\n    <path d=\"M 161.867475 108.834513 \nL 169.290978 108.834513 \nL 169.290978 97.583454 \nL 161.867475 97.583454 \nz\n\" clip-path=\"url(#pe4dabd1cd1)\" style=\"fill: #1b9682; opacity: 0.5; stroke: #000000; stroke-linejoin: miter\"/>\n   </g>\n   <g id=\"patch_17\">\n    <path d=\"M 169.290978 108.834513 \nL 176.714482 108.834513 \nL 176.714482 92.691689 \nL 169.290978 92.691689 \nz\n\" clip-path=\"url(#pe4dabd1cd1)\" style=\"fill: #1b9682; opacity: 0.5; stroke: #000000; stroke-linejoin: miter\"/>\n   </g>\n   <g id=\"patch_18\">\n    <path d=\"M 176.714482 108.834513 \nL 184.137985 108.834513 \nL 184.137985 89.756631 \nL 176.714482 89.756631 \nz\n\" clip-path=\"url(#pe4dabd1cd1)\" style=\"fill: #1b9682; opacity: 0.5; stroke: #000000; stroke-linejoin: miter\"/>\n   </g>\n   <g id=\"patch_19\">\n    <path d=\"M 184.137985 108.834513 \nL 191.561488 108.834513 \nL 191.561488 76.059689 \nL 184.137985 76.059689 \nz\n\" clip-path=\"url(#pe4dabd1cd1)\" style=\"fill: #1b9682; opacity: 0.5; stroke: #000000; stroke-linejoin: miter\"/>\n   </g>\n   <g id=\"patch_20\">\n    <path d=\"M 191.561488 108.834513 \nL 198.984992 108.834513 \nL 198.984992 78.994748 \nL 191.561488 78.994748 \nz\n\" clip-path=\"url(#pe4dabd1cd1)\" style=\"fill: #1b9682; opacity: 0.5; stroke: #000000; stroke-linejoin: miter\"/>\n   </g>\n   <g id=\"patch_21\">\n    <path d=\"M 198.984992 108.834513 \nL 206.408495 108.834513 \nL 206.408495 66.27616 \nL 198.984992 66.27616 \nz\n\" clip-path=\"url(#pe4dabd1cd1)\" style=\"fill: #1b9682; opacity: 0.5; stroke: #000000; stroke-linejoin: miter\"/>\n   </g>\n   <g id=\"patch_22\">\n    <path d=\"M 206.408495 108.834513 \nL 213.831998 108.834513 \nL 213.831998 60.406042 \nL 206.408495 60.406042 \nz\n\" clip-path=\"url(#pe4dabd1cd1)\" style=\"fill: #1b9682; opacity: 0.5; stroke: #000000; stroke-linejoin: miter\"/>\n   </g>\n   <g id=\"patch_23\">\n    <path d=\"M 213.831998 108.834513 \nL 221.255502 108.834513 \nL 221.255502 62.851925 \nL 213.831998 62.851925 \nz\n\" clip-path=\"url(#pe4dabd1cd1)\" style=\"fill: #1b9682; opacity: 0.5; stroke: #000000; stroke-linejoin: miter\"/>\n   </g>\n   <g id=\"patch_24\">\n    <path d=\"M 221.255502 108.834513 \nL 228.679005 108.834513 \nL 228.679005 64.808631 \nL 221.255502 64.808631 \nz\n\" clip-path=\"url(#pe4dabd1cd1)\" style=\"fill: #1b9682; opacity: 0.5; stroke: #000000; stroke-linejoin: miter\"/>\n   </g>\n   <g id=\"patch_25\">\n    <path d=\"M 228.679005 108.834513 \nL 236.102508 108.834513 \nL 236.102508 61.384395 \nL 228.679005 61.384395 \nz\n\" clip-path=\"url(#pe4dabd1cd1)\" style=\"fill: #1b9682; opacity: 0.5; stroke: #000000; stroke-linejoin: miter\"/>\n   </g>\n   <g id=\"patch_26\">\n    <path d=\"M 236.102508 108.834513 \nL 243.526012 108.834513 \nL 243.526012 76.548866 \nL 236.102508 76.548866 \nz\n\" clip-path=\"url(#pe4dabd1cd1)\" style=\"fill: #1b9682; opacity: 0.5; stroke: #000000; stroke-linejoin: miter\"/>\n   </g>\n   <g id=\"patch_27\">\n    <path d=\"M 243.526012 108.834513 \nL 250.949515 108.834513 \nL 250.949515 81.440631 \nL 243.526012 81.440631 \nz\n\" clip-path=\"url(#pe4dabd1cd1)\" style=\"fill: #1b9682; opacity: 0.5; stroke: #000000; stroke-linejoin: miter\"/>\n   </g>\n   <g id=\"patch_28\">\n    <path d=\"M 250.949515 108.834513 \nL 258.373018 108.834513 \nL 258.373018 84.375689 \nL 250.949515 84.375689 \nz\n\" clip-path=\"url(#pe4dabd1cd1)\" style=\"fill: #1b9682; opacity: 0.5; stroke: #000000; stroke-linejoin: miter\"/>\n   </g>\n   <g id=\"patch_29\">\n    <path d=\"M 258.373018 108.834513 \nL 265.796522 108.834513 \nL 265.796522 88.778278 \nL 258.373018 88.778278 \nz\n\" clip-path=\"url(#pe4dabd1cd1)\" style=\"fill: #1b9682; opacity: 0.5; stroke: #000000; stroke-linejoin: miter\"/>\n   </g>\n   <g id=\"patch_30\">\n    <path d=\"M 265.796522 108.834513 \nL 273.220025 108.834513 \nL 273.220025 97.583454 \nL 265.796522 97.583454 \nz\n\" clip-path=\"url(#pe4dabd1cd1)\" style=\"fill: #1b9682; opacity: 0.5; stroke: #000000; stroke-linejoin: miter\"/>\n   </g>\n   <g id=\"patch_31\">\n    <path d=\"M 273.220025 108.834513 \nL 280.643528 108.834513 \nL 280.643528 100.029336 \nL 273.220025 100.029336 \nz\n\" clip-path=\"url(#pe4dabd1cd1)\" style=\"fill: #1b9682; opacity: 0.5; stroke: #000000; stroke-linejoin: miter\"/>\n   </g>\n   <g id=\"patch_32\">\n    <path d=\"M 280.643528 108.834513 \nL 288.067032 108.834513 \nL 288.067032 104.431925 \nL 280.643528 104.431925 \nz\n\" clip-path=\"url(#pe4dabd1cd1)\" style=\"fill: #1b9682; opacity: 0.5; stroke: #000000; stroke-linejoin: miter\"/>\n   </g>\n   <g id=\"patch_33\">\n    <path d=\"M 288.067032 108.834513 \nL 295.490535 108.834513 \nL 295.490535 106.877807 \nL 288.067032 106.877807 \nz\n\" clip-path=\"url(#pe4dabd1cd1)\" style=\"fill: #1b9682; opacity: 0.5; stroke: #000000; stroke-linejoin: miter\"/>\n   </g>\n   <g id=\"patch_34\">\n    <path d=\"M 295.490535 108.834513 \nL 302.914038 108.834513 \nL 302.914038 106.877807 \nL 295.490535 106.877807 \nz\n\" clip-path=\"url(#pe4dabd1cd1)\" style=\"fill: #1b9682; opacity: 0.5; stroke: #000000; stroke-linejoin: miter\"/>\n   </g>\n   <g id=\"patch_35\">\n    <path d=\"M 302.914038 108.834513 \nL 310.337542 108.834513 \nL 310.337542 107.85616 \nL 302.914038 107.85616 \nz\n\" clip-path=\"url(#pe4dabd1cd1)\" style=\"fill: #1b9682; opacity: 0.5; stroke: #000000; stroke-linejoin: miter\"/>\n   </g>\n   <g id=\"patch_36\">\n    <path d=\"M 310.337542 108.834513 \nL 317.761045 108.834513 \nL 317.761045 108.345336 \nL 310.337542 108.345336 \nz\n\" clip-path=\"url(#pe4dabd1cd1)\" style=\"fill: #1b9682; opacity: 0.5; stroke: #000000; stroke-linejoin: miter\"/>\n   </g>\n   <g id=\"patch_37\">\n    <path d=\"M 317.761045 108.834513 \nL 325.184548 108.834513 \nL 325.184548 108.834513 \nL 317.761045 108.834513 \nz\n\" clip-path=\"url(#pe4dabd1cd1)\" style=\"fill: #1b9682; opacity: 0.5; stroke: #000000; stroke-linejoin: miter\"/>\n   </g>\n   <g id=\"patch_38\">\n    <path d=\"M 325.184548 108.834513 \nL 332.608052 108.834513 \nL 332.608052 108.834513 \nL 325.184548 108.834513 \nz\n\" clip-path=\"url(#pe4dabd1cd1)\" style=\"fill: #1b9682; opacity: 0.5; stroke: #000000; stroke-linejoin: miter\"/>\n   </g>\n   <g id=\"patch_39\">\n    <path d=\"M 332.608052 108.834513 \nL 340.031555 108.834513 \nL 340.031555 108.834513 \nL 332.608052 108.834513 \nz\n\" clip-path=\"url(#pe4dabd1cd1)\" style=\"fill: #1b9682; opacity: 0.5; stroke: #000000; stroke-linejoin: miter\"/>\n   </g>\n   <g id=\"patch_40\">\n    <path d=\"M 340.031555 108.834513 \nL 347.455058 108.834513 \nL 347.455058 108.834513 \nL 340.031555 108.834513 \nz\n\" clip-path=\"url(#pe4dabd1cd1)\" style=\"fill: #1b9682; opacity: 0.5; stroke: #000000; stroke-linejoin: miter\"/>\n   </g>\n   <g id=\"patch_41\">\n    <path d=\"M 347.455058 108.834513 \nL 354.878562 108.834513 \nL 354.878562 108.834513 \nL 347.455058 108.834513 \nz\n\" clip-path=\"url(#pe4dabd1cd1)\" style=\"fill: #1b9682; opacity: 0.5; stroke: #000000; stroke-linejoin: miter\"/>\n   </g>\n   <g id=\"patch_42\">\n    <path d=\"M 354.878562 108.834513 \nL 362.302065 108.834513 \nL 362.302065 108.834513 \nL 354.878562 108.834513 \nz\n\" clip-path=\"url(#pe4dabd1cd1)\" style=\"fill: #1b9682; opacity: 0.5; stroke: #000000; stroke-linejoin: miter\"/>\n   </g>\n   <g id=\"patch_43\">\n    <path d=\"M 362.302065 108.834513 \nL 369.725568 108.834513 \nL 369.725568 108.834513 \nL 362.302065 108.834513 \nz\n\" clip-path=\"url(#pe4dabd1cd1)\" style=\"fill: #1b9682; opacity: 0.5; stroke: #000000; stroke-linejoin: miter\"/>\n   </g>\n   <g id=\"patch_44\">\n    <path d=\"M 65.361932 108.834513 \nL 72.785435 108.834513 \nL 72.785435 108.834513 \nL 65.361932 108.834513 \nz\n\" clip-path=\"url(#pe4dabd1cd1)\" style=\"fill: #ba55d3; opacity: 0.5; stroke: #000000; stroke-linejoin: miter\"/>\n   </g>\n   <g id=\"patch_45\">\n    <path d=\"M 72.785435 108.834513 \nL 80.208938 108.834513 \nL 80.208938 108.834513 \nL 72.785435 108.834513 \nz\n\" clip-path=\"url(#pe4dabd1cd1)\" style=\"fill: #ba55d3; opacity: 0.5; stroke: #000000; stroke-linejoin: miter\"/>\n   </g>\n   <g id=\"patch_46\">\n    <path d=\"M 80.208938 108.834513 \nL 87.632442 108.834513 \nL 87.632442 108.834513 \nL 80.208938 108.834513 \nz\n\" clip-path=\"url(#pe4dabd1cd1)\" style=\"fill: #ba55d3; opacity: 0.5; stroke: #000000; stroke-linejoin: miter\"/>\n   </g>\n   <g id=\"patch_47\">\n    <path d=\"M 87.632442 108.834513 \nL 95.055945 108.834513 \nL 95.055945 108.834513 \nL 87.632442 108.834513 \nz\n\" clip-path=\"url(#pe4dabd1cd1)\" style=\"fill: #ba55d3; opacity: 0.5; stroke: #000000; stroke-linejoin: miter\"/>\n   </g>\n   <g id=\"patch_48\">\n    <path d=\"M 95.055945 108.834513 \nL 102.479448 108.834513 \nL 102.479448 108.834513 \nL 95.055945 108.834513 \nz\n\" clip-path=\"url(#pe4dabd1cd1)\" style=\"fill: #ba55d3; opacity: 0.5; stroke: #000000; stroke-linejoin: miter\"/>\n   </g>\n   <g id=\"patch_49\">\n    <path d=\"M 102.479448 108.834513 \nL 109.902952 108.834513 \nL 109.902952 108.834513 \nL 102.479448 108.834513 \nz\n\" clip-path=\"url(#pe4dabd1cd1)\" style=\"fill: #ba55d3; opacity: 0.5; stroke: #000000; stroke-linejoin: miter\"/>\n   </g>\n   <g id=\"patch_50\">\n    <path d=\"M 109.902952 108.834513 \nL 117.326455 108.834513 \nL 117.326455 108.834513 \nL 109.902952 108.834513 \nz\n\" clip-path=\"url(#pe4dabd1cd1)\" style=\"fill: #ba55d3; opacity: 0.5; stroke: #000000; stroke-linejoin: miter\"/>\n   </g>\n   <g id=\"patch_51\">\n    <path d=\"M 117.326455 108.834513 \nL 124.749958 108.834513 \nL 124.749958 108.834513 \nL 117.326455 108.834513 \nz\n\" clip-path=\"url(#pe4dabd1cd1)\" style=\"fill: #ba55d3; opacity: 0.5; stroke: #000000; stroke-linejoin: miter\"/>\n   </g>\n   <g id=\"patch_52\">\n    <path d=\"M 124.749958 108.834513 \nL 132.173462 108.834513 \nL 132.173462 107.366983 \nL 124.749958 107.366983 \nz\n\" clip-path=\"url(#pe4dabd1cd1)\" style=\"fill: #ba55d3; opacity: 0.5; stroke: #000000; stroke-linejoin: miter\"/>\n   </g>\n   <g id=\"patch_53\">\n    <path d=\"M 132.173462 108.834513 \nL 139.596965 108.834513 \nL 139.596965 107.85616 \nL 132.173462 107.85616 \nz\n\" clip-path=\"url(#pe4dabd1cd1)\" style=\"fill: #ba55d3; opacity: 0.5; stroke: #000000; stroke-linejoin: miter\"/>\n   </g>\n   <g id=\"patch_54\">\n    <path d=\"M 139.596965 108.834513 \nL 147.020468 108.834513 \nL 147.020468 106.388631 \nL 139.596965 106.388631 \nz\n\" clip-path=\"url(#pe4dabd1cd1)\" style=\"fill: #ba55d3; opacity: 0.5; stroke: #000000; stroke-linejoin: miter\"/>\n   </g>\n   <g id=\"patch_55\">\n    <path d=\"M 147.020468 108.834513 \nL 154.443972 108.834513 \nL 154.443972 106.388631 \nL 147.020468 106.388631 \nz\n\" clip-path=\"url(#pe4dabd1cd1)\" style=\"fill: #ba55d3; opacity: 0.5; stroke: #000000; stroke-linejoin: miter\"/>\n   </g>\n   <g id=\"patch_56\">\n    <path d=\"M 154.443972 108.834513 \nL 161.867475 108.834513 \nL 161.867475 101.986042 \nL 154.443972 101.986042 \nz\n\" clip-path=\"url(#pe4dabd1cd1)\" style=\"fill: #ba55d3; opacity: 0.5; stroke: #000000; stroke-linejoin: miter\"/>\n   </g>\n   <g id=\"patch_57\">\n    <path d=\"M 161.867475 108.834513 \nL 169.290978 108.834513 \nL 169.290978 99.54016 \nL 161.867475 99.54016 \nz\n\" clip-path=\"url(#pe4dabd1cd1)\" style=\"fill: #ba55d3; opacity: 0.5; stroke: #000000; stroke-linejoin: miter\"/>\n   </g>\n   <g id=\"patch_58\">\n    <path d=\"M 169.290978 108.834513 \nL 176.714482 108.834513 \nL 176.714482 92.691689 \nL 169.290978 92.691689 \nz\n\" clip-path=\"url(#pe4dabd1cd1)\" style=\"fill: #ba55d3; opacity: 0.5; stroke: #000000; stroke-linejoin: miter\"/>\n   </g>\n   <g id=\"patch_59\">\n    <path d=\"M 176.714482 108.834513 \nL 184.137985 108.834513 \nL 184.137985 90.245807 \nL 176.714482 90.245807 \nz\n\" clip-path=\"url(#pe4dabd1cd1)\" style=\"fill: #ba55d3; opacity: 0.5; stroke: #000000; stroke-linejoin: miter\"/>\n   </g>\n   <g id=\"patch_60\">\n    <path d=\"M 184.137985 108.834513 \nL 191.561488 108.834513 \nL 191.561488 83.886513 \nL 184.137985 83.886513 \nz\n\" clip-path=\"url(#pe4dabd1cd1)\" style=\"fill: #ba55d3; opacity: 0.5; stroke: #000000; stroke-linejoin: miter\"/>\n   </g>\n   <g id=\"patch_61\">\n    <path d=\"M 191.561488 108.834513 \nL 198.984992 108.834513 \nL 198.984992 69.700395 \nL 191.561488 69.700395 \nz\n\" clip-path=\"url(#pe4dabd1cd1)\" style=\"fill: #ba55d3; opacity: 0.5; stroke: #000000; stroke-linejoin: miter\"/>\n   </g>\n   <g id=\"patch_62\">\n    <path d=\"M 198.984992 108.834513 \nL 206.408495 108.834513 \nL 206.408495 65.786983 \nL 198.984992 65.786983 \nz\n\" clip-path=\"url(#pe4dabd1cd1)\" style=\"fill: #ba55d3; opacity: 0.5; stroke: #000000; stroke-linejoin: miter\"/>\n   </g>\n   <g id=\"patch_63\">\n    <path d=\"M 206.408495 108.834513 \nL 213.831998 108.834513 \nL 213.831998 64.319454 \nL 206.408495 64.319454 \nz\n\" clip-path=\"url(#pe4dabd1cd1)\" style=\"fill: #ba55d3; opacity: 0.5; stroke: #000000; stroke-linejoin: miter\"/>\n   </g>\n   <g id=\"patch_64\">\n    <path d=\"M 213.831998 108.834513 \nL 221.255502 108.834513 \nL 221.255502 60.406042 \nL 213.831998 60.406042 \nz\n\" clip-path=\"url(#pe4dabd1cd1)\" style=\"fill: #ba55d3; opacity: 0.5; stroke: #000000; stroke-linejoin: miter\"/>\n   </g>\n   <g id=\"patch_65\">\n    <path d=\"M 221.255502 108.834513 \nL 228.679005 108.834513 \nL 228.679005 52.090042 \nL 221.255502 52.090042 \nz\n\" clip-path=\"url(#pe4dabd1cd1)\" style=\"fill: #ba55d3; opacity: 0.5; stroke: #000000; stroke-linejoin: miter\"/>\n   </g>\n   <g id=\"patch_66\">\n    <path d=\"M 228.679005 108.834513 \nL 236.102508 108.834513 \nL 236.102508 66.27616 \nL 228.679005 66.27616 \nz\n\" clip-path=\"url(#pe4dabd1cd1)\" style=\"fill: #ba55d3; opacity: 0.5; stroke: #000000; stroke-linejoin: miter\"/>\n   </g>\n   <g id=\"patch_67\">\n    <path d=\"M 236.102508 108.834513 \nL 243.526012 108.834513 \nL 243.526012 67.254513 \nL 236.102508 67.254513 \nz\n\" clip-path=\"url(#pe4dabd1cd1)\" style=\"fill: #ba55d3; opacity: 0.5; stroke: #000000; stroke-linejoin: miter\"/>\n   </g>\n   <g id=\"patch_68\">\n    <path d=\"M 243.526012 108.834513 \nL 250.949515 108.834513 \nL 250.949515 79.483925 \nL 243.526012 79.483925 \nz\n\" clip-path=\"url(#pe4dabd1cd1)\" style=\"fill: #ba55d3; opacity: 0.5; stroke: #000000; stroke-linejoin: miter\"/>\n   </g>\n   <g id=\"patch_69\">\n    <path d=\"M 250.949515 108.834513 \nL 258.373018 108.834513 \nL 258.373018 90.245807 \nL 250.949515 90.245807 \nz\n\" clip-path=\"url(#pe4dabd1cd1)\" style=\"fill: #ba55d3; opacity: 0.5; stroke: #000000; stroke-linejoin: miter\"/>\n   </g>\n   <g id=\"patch_70\">\n    <path d=\"M 258.373018 108.834513 \nL 265.796522 108.834513 \nL 265.796522 93.180866 \nL 258.373018 93.180866 \nz\n\" clip-path=\"url(#pe4dabd1cd1)\" style=\"fill: #ba55d3; opacity: 0.5; stroke: #000000; stroke-linejoin: miter\"/>\n   </g>\n   <g id=\"patch_71\">\n    <path d=\"M 265.796522 108.834513 \nL 273.220025 108.834513 \nL 273.220025 96.605101 \nL 265.796522 96.605101 \nz\n\" clip-path=\"url(#pe4dabd1cd1)\" style=\"fill: #ba55d3; opacity: 0.5; stroke: #000000; stroke-linejoin: miter\"/>\n   </g>\n   <g id=\"patch_72\">\n    <path d=\"M 273.220025 108.834513 \nL 280.643528 108.834513 \nL 280.643528 100.518513 \nL 273.220025 100.518513 \nz\n\" clip-path=\"url(#pe4dabd1cd1)\" style=\"fill: #ba55d3; opacity: 0.5; stroke: #000000; stroke-linejoin: miter\"/>\n   </g>\n   <g id=\"patch_73\">\n    <path d=\"M 280.643528 108.834513 \nL 288.067032 108.834513 \nL 288.067032 105.410278 \nL 280.643528 105.410278 \nz\n\" clip-path=\"url(#pe4dabd1cd1)\" style=\"fill: #ba55d3; opacity: 0.5; stroke: #000000; stroke-linejoin: miter\"/>\n   </g>\n   <g id=\"patch_74\">\n    <path d=\"M 288.067032 108.834513 \nL 295.490535 108.834513 \nL 295.490535 107.85616 \nL 288.067032 107.85616 \nz\n\" clip-path=\"url(#pe4dabd1cd1)\" style=\"fill: #ba55d3; opacity: 0.5; stroke: #000000; stroke-linejoin: miter\"/>\n   </g>\n   <g id=\"patch_75\">\n    <path d=\"M 295.490535 108.834513 \nL 302.914038 108.834513 \nL 302.914038 108.345336 \nL 295.490535 108.345336 \nz\n\" clip-path=\"url(#pe4dabd1cd1)\" style=\"fill: #ba55d3; opacity: 0.5; stroke: #000000; stroke-linejoin: miter\"/>\n   </g>\n   <g id=\"patch_76\">\n    <path d=\"M 302.914038 108.834513 \nL 310.337542 108.834513 \nL 310.337542 108.345336 \nL 302.914038 108.345336 \nz\n\" clip-path=\"url(#pe4dabd1cd1)\" style=\"fill: #ba55d3; opacity: 0.5; stroke: #000000; stroke-linejoin: miter\"/>\n   </g>\n   <g id=\"patch_77\">\n    <path d=\"M 310.337542 108.834513 \nL 317.761045 108.834513 \nL 317.761045 108.345336 \nL 310.337542 108.345336 \nz\n\" clip-path=\"url(#pe4dabd1cd1)\" style=\"fill: #ba55d3; opacity: 0.5; stroke: #000000; stroke-linejoin: miter\"/>\n   </g>\n   <g id=\"patch_78\">\n    <path d=\"M 317.761045 108.834513 \nL 325.184548 108.834513 \nL 325.184548 108.834513 \nL 317.761045 108.834513 \nz\n\" clip-path=\"url(#pe4dabd1cd1)\" style=\"fill: #ba55d3; opacity: 0.5; stroke: #000000; stroke-linejoin: miter\"/>\n   </g>\n   <g id=\"patch_79\">\n    <path d=\"M 325.184548 108.834513 \nL 332.608052 108.834513 \nL 332.608052 108.834513 \nL 325.184548 108.834513 \nz\n\" clip-path=\"url(#pe4dabd1cd1)\" style=\"fill: #ba55d3; opacity: 0.5; stroke: #000000; stroke-linejoin: miter\"/>\n   </g>\n   <g id=\"patch_80\">\n    <path d=\"M 332.608052 108.834513 \nL 340.031555 108.834513 \nL 340.031555 108.834513 \nL 332.608052 108.834513 \nz\n\" clip-path=\"url(#pe4dabd1cd1)\" style=\"fill: #ba55d3; opacity: 0.5; stroke: #000000; stroke-linejoin: miter\"/>\n   </g>\n   <g id=\"patch_81\">\n    <path d=\"M 340.031555 108.834513 \nL 347.455058 108.834513 \nL 347.455058 108.834513 \nL 340.031555 108.834513 \nz\n\" clip-path=\"url(#pe4dabd1cd1)\" style=\"fill: #ba55d3; opacity: 0.5; stroke: #000000; stroke-linejoin: miter\"/>\n   </g>\n   <g id=\"patch_82\">\n    <path d=\"M 347.455058 108.834513 \nL 354.878562 108.834513 \nL 354.878562 108.834513 \nL 347.455058 108.834513 \nz\n\" clip-path=\"url(#pe4dabd1cd1)\" style=\"fill: #ba55d3; opacity: 0.5; stroke: #000000; stroke-linejoin: miter\"/>\n   </g>\n   <g id=\"patch_83\">\n    <path d=\"M 354.878562 108.834513 \nL 362.302065 108.834513 \nL 362.302065 108.834513 \nL 354.878562 108.834513 \nz\n\" clip-path=\"url(#pe4dabd1cd1)\" style=\"fill: #ba55d3; opacity: 0.5; stroke: #000000; stroke-linejoin: miter\"/>\n   </g>\n   <g id=\"patch_84\">\n    <path d=\"M 362.302065 108.834513 \nL 369.725568 108.834513 \nL 369.725568 108.834513 \nL 362.302065 108.834513 \nz\n\" clip-path=\"url(#pe4dabd1cd1)\" style=\"fill: #ba55d3; opacity: 0.5; stroke: #000000; stroke-linejoin: miter\"/>\n   </g>\n   <g id=\"matplotlib.axis_1\">\n    <g id=\"xtick_1\">\n     <g id=\"line2d_1\">\n      <defs>\n       <path id=\"m1c4b33d2c2\" d=\"M 0 0 \nL 0 3.5 \n\" style=\"stroke: #000000; stroke-width: 0.8\"/>\n      </defs>\n      <g>\n       <use xlink:href=\"#m1c4b33d2c2\" x=\"69.073683\" y=\"108.834513\" style=\"stroke: #000000; stroke-width: 0.8\"/>\n      </g>\n     </g>\n     <g id=\"text_1\">\n      <!-- -π/2 -->\n      <g transform=\"translate(59.393996 123.43295) scale(0.1 -0.1)\">\n       <defs>\n        <path id=\"DejaVuSans-2d\" d=\"M 313 2009 \nL 1997 2009 \nL 1997 1497 \nL 313 1497 \nL 313 2009 \nz\n\" transform=\"scale(0.015625)\"/>\n        <path id=\"DejaVuSans-3c0\" d=\"M 231 3500 \nL 3584 3500 \nL 3584 2925 \nL 3144 2925 \nL 3144 775 \nQ 3144 550 3220 451 \nQ 3297 353 3469 353 \nQ 3516 353 3584 361 \nQ 3653 369 3675 372 \nL 3675 -44 \nQ 3566 -84 3450 -103 \nQ 3334 -122 3219 -122 \nQ 2844 -122 2700 83 \nQ 2556 288 2556 838 \nL 2556 2925 \nL 1266 2925 \nL 1266 0 \nL 678 0 \nL 678 2925 \nL 231 2925 \nL 231 3500 \nz\n\" transform=\"scale(0.015625)\"/>\n        <path id=\"DejaVuSans-2f\" d=\"M 1625 4666 \nL 2156 4666 \nL 531 -594 \nL 0 -594 \nL 1625 4666 \nz\n\" transform=\"scale(0.015625)\"/>\n        <path id=\"DejaVuSans-32\" d=\"M 1228 531 \nL 3431 531 \nL 3431 0 \nL 469 0 \nL 469 531 \nQ 828 903 1448 1529 \nQ 2069 2156 2228 2338 \nQ 2531 2678 2651 2914 \nQ 2772 3150 2772 3378 \nQ 2772 3750 2511 3984 \nQ 2250 4219 1831 4219 \nQ 1534 4219 1204 4116 \nQ 875 4013 500 3803 \nL 500 4441 \nQ 881 4594 1212 4672 \nQ 1544 4750 1819 4750 \nQ 2544 4750 2975 4387 \nQ 3406 4025 3406 3419 \nQ 3406 3131 3298 2873 \nQ 3191 2616 2906 2266 \nQ 2828 2175 2409 1742 \nQ 1991 1309 1228 531 \nz\n\" transform=\"scale(0.015625)\"/>\n       </defs>\n       <use xlink:href=\"#DejaVuSans-2d\"/>\n       <use xlink:href=\"#DejaVuSans-3c0\" x=\"36.083984\"/>\n       <use xlink:href=\"#DejaVuSans-2f\" x=\"96.289062\"/>\n       <use xlink:href=\"#DejaVuSans-32\" x=\"129.980469\"/>\n      </g>\n     </g>\n    </g>\n    <g id=\"xtick_2\">\n     <g id=\"line2d_2\">\n      <g>\n       <use xlink:href=\"#m1c4b33d2c2\" x=\"143.308717\" y=\"108.834513\" style=\"stroke: #000000; stroke-width: 0.8\"/>\n      </g>\n     </g>\n     <g id=\"text_2\">\n      <!-- -π/4 -->\n      <g transform=\"translate(133.629029 123.43295) scale(0.1 -0.1)\">\n       <defs>\n        <path id=\"DejaVuSans-34\" d=\"M 2419 4116 \nL 825 1625 \nL 2419 1625 \nL 2419 4116 \nz\nM 2253 4666 \nL 3047 4666 \nL 3047 1625 \nL 3713 1625 \nL 3713 1100 \nL 3047 1100 \nL 3047 0 \nL 2419 0 \nL 2419 1100 \nL 313 1100 \nL 313 1709 \nL 2253 4666 \nz\n\" transform=\"scale(0.015625)\"/>\n       </defs>\n       <use xlink:href=\"#DejaVuSans-2d\"/>\n       <use xlink:href=\"#DejaVuSans-3c0\" x=\"36.083984\"/>\n       <use xlink:href=\"#DejaVuSans-2f\" x=\"96.289062\"/>\n       <use xlink:href=\"#DejaVuSans-34\" x=\"129.980469\"/>\n      </g>\n     </g>\n    </g>\n    <g id=\"xtick_3\">\n     <g id=\"line2d_3\">\n      <g>\n       <use xlink:href=\"#m1c4b33d2c2\" x=\"217.54375\" y=\"108.834513\" style=\"stroke: #000000; stroke-width: 0.8\"/>\n      </g>\n     </g>\n     <g id=\"text_3\">\n      <!-- 0 -->\n      <g transform=\"translate(214.3625 123.43295) scale(0.1 -0.1)\">\n       <defs>\n        <path id=\"DejaVuSans-30\" d=\"M 2034 4250 \nQ 1547 4250 1301 3770 \nQ 1056 3291 1056 2328 \nQ 1056 1369 1301 889 \nQ 1547 409 2034 409 \nQ 2525 409 2770 889 \nQ 3016 1369 3016 2328 \nQ 3016 3291 2770 3770 \nQ 2525 4250 2034 4250 \nz\nM 2034 4750 \nQ 2819 4750 3233 4129 \nQ 3647 3509 3647 2328 \nQ 3647 1150 3233 529 \nQ 2819 -91 2034 -91 \nQ 1250 -91 836 529 \nQ 422 1150 422 2328 \nQ 422 3509 836 4129 \nQ 1250 4750 2034 4750 \nz\n\" transform=\"scale(0.015625)\"/>\n       </defs>\n       <use xlink:href=\"#DejaVuSans-30\"/>\n      </g>\n     </g>\n    </g>\n    <g id=\"xtick_4\">\n     <g id=\"line2d_4\">\n      <g>\n       <use xlink:href=\"#m1c4b33d2c2\" x=\"291.778783\" y=\"108.834513\" style=\"stroke: #000000; stroke-width: 0.8\"/>\n      </g>\n     </g>\n     <g id=\"text_4\">\n      <!-- π/4 -->\n      <g transform=\"translate(283.903002 123.43295) scale(0.1 -0.1)\">\n       <use xlink:href=\"#DejaVuSans-3c0\"/>\n       <use xlink:href=\"#DejaVuSans-2f\" x=\"60.205078\"/>\n       <use xlink:href=\"#DejaVuSans-34\" x=\"93.896484\"/>\n      </g>\n     </g>\n    </g>\n    <g id=\"xtick_5\">\n     <g id=\"line2d_5\">\n      <g>\n       <use xlink:href=\"#m1c4b33d2c2\" x=\"366.013817\" y=\"108.834513\" style=\"stroke: #000000; stroke-width: 0.8\"/>\n      </g>\n     </g>\n     <g id=\"text_5\">\n      <!-- π/2 -->\n      <g transform=\"translate(358.138035 123.43295) scale(0.1 -0.1)\">\n       <use xlink:href=\"#DejaVuSans-3c0\"/>\n       <use xlink:href=\"#DejaVuSans-2f\" x=\"60.205078\"/>\n       <use xlink:href=\"#DejaVuSans-32\" x=\"93.896484\"/>\n      </g>\n     </g>\n    </g>\n    <g id=\"text_6\">\n     <!-- Angles -->\n     <g transform=\"translate(200.710156 137.111075) scale(0.1 -0.1)\">\n      <defs>\n       <path id=\"DejaVuSans-41\" d=\"M 2188 4044 \nL 1331 1722 \nL 3047 1722 \nL 2188 4044 \nz\nM 1831 4666 \nL 2547 4666 \nL 4325 0 \nL 3669 0 \nL 3244 1197 \nL 1141 1197 \nL 716 0 \nL 50 0 \nL 1831 4666 \nz\n\" transform=\"scale(0.015625)\"/>\n       <path id=\"DejaVuSans-6e\" d=\"M 3513 2113 \nL 3513 0 \nL 2938 0 \nL 2938 2094 \nQ 2938 2591 2744 2837 \nQ 2550 3084 2163 3084 \nQ 1697 3084 1428 2787 \nQ 1159 2491 1159 1978 \nL 1159 0 \nL 581 0 \nL 581 3500 \nL 1159 3500 \nL 1159 2956 \nQ 1366 3272 1645 3428 \nQ 1925 3584 2291 3584 \nQ 2894 3584 3203 3211 \nQ 3513 2838 3513 2113 \nz\n\" transform=\"scale(0.015625)\"/>\n       <path id=\"DejaVuSans-67\" d=\"M 2906 1791 \nQ 2906 2416 2648 2759 \nQ 2391 3103 1925 3103 \nQ 1463 3103 1205 2759 \nQ 947 2416 947 1791 \nQ 947 1169 1205 825 \nQ 1463 481 1925 481 \nQ 2391 481 2648 825 \nQ 2906 1169 2906 1791 \nz\nM 3481 434 \nQ 3481 -459 3084 -895 \nQ 2688 -1331 1869 -1331 \nQ 1566 -1331 1297 -1286 \nQ 1028 -1241 775 -1147 \nL 775 -588 \nQ 1028 -725 1275 -790 \nQ 1522 -856 1778 -856 \nQ 2344 -856 2625 -561 \nQ 2906 -266 2906 331 \nL 2906 616 \nQ 2728 306 2450 153 \nQ 2172 0 1784 0 \nQ 1141 0 747 490 \nQ 353 981 353 1791 \nQ 353 2603 747 3093 \nQ 1141 3584 1784 3584 \nQ 2172 3584 2450 3431 \nQ 2728 3278 2906 2969 \nL 2906 3500 \nL 3481 3500 \nL 3481 434 \nz\n\" transform=\"scale(0.015625)\"/>\n       <path id=\"DejaVuSans-6c\" d=\"M 603 4863 \nL 1178 4863 \nL 1178 0 \nL 603 0 \nL 603 4863 \nz\n\" transform=\"scale(0.015625)\"/>\n       <path id=\"DejaVuSans-65\" d=\"M 3597 1894 \nL 3597 1613 \nL 953 1613 \nQ 991 1019 1311 708 \nQ 1631 397 2203 397 \nQ 2534 397 2845 478 \nQ 3156 559 3463 722 \nL 3463 178 \nQ 3153 47 2828 -22 \nQ 2503 -91 2169 -91 \nQ 1331 -91 842 396 \nQ 353 884 353 1716 \nQ 353 2575 817 3079 \nQ 1281 3584 2069 3584 \nQ 2775 3584 3186 3129 \nQ 3597 2675 3597 1894 \nz\nM 3022 2063 \nQ 3016 2534 2758 2815 \nQ 2500 3097 2075 3097 \nQ 1594 3097 1305 2825 \nQ 1016 2553 972 2059 \nL 3022 2063 \nz\n\" transform=\"scale(0.015625)\"/>\n       <path id=\"DejaVuSans-73\" d=\"M 2834 3397 \nL 2834 2853 \nQ 2591 2978 2328 3040 \nQ 2066 3103 1784 3103 \nQ 1356 3103 1142 2972 \nQ 928 2841 928 2578 \nQ 928 2378 1081 2264 \nQ 1234 2150 1697 2047 \nL 1894 2003 \nQ 2506 1872 2764 1633 \nQ 3022 1394 3022 966 \nQ 3022 478 2636 193 \nQ 2250 -91 1575 -91 \nQ 1294 -91 989 -36 \nQ 684 19 347 128 \nL 347 722 \nQ 666 556 975 473 \nQ 1284 391 1588 391 \nQ 1994 391 2212 530 \nQ 2431 669 2431 922 \nQ 2431 1156 2273 1281 \nQ 2116 1406 1581 1522 \nL 1381 1569 \nQ 847 1681 609 1914 \nQ 372 2147 372 2553 \nQ 372 3047 722 3315 \nQ 1072 3584 1716 3584 \nQ 2034 3584 2315 3537 \nQ 2597 3491 2834 3397 \nz\n\" transform=\"scale(0.015625)\"/>\n      </defs>\n      <use xlink:href=\"#DejaVuSans-41\"/>\n      <use xlink:href=\"#DejaVuSans-6e\" x=\"68.408203\"/>\n      <use xlink:href=\"#DejaVuSans-67\" x=\"131.787109\"/>\n      <use xlink:href=\"#DejaVuSans-6c\" x=\"195.263672\"/>\n      <use xlink:href=\"#DejaVuSans-65\" x=\"223.046875\"/>\n      <use xlink:href=\"#DejaVuSans-73\" x=\"284.570312\"/>\n     </g>\n    </g>\n   </g>\n   <g id=\"matplotlib.axis_2\">\n    <g id=\"ytick_1\">\n     <g id=\"line2d_6\">\n      <defs>\n       <path id=\"md5b084cc50\" d=\"M 0 0 \nL -3.5 0 \n\" style=\"stroke: #000000; stroke-width: 0.8\"/>\n      </defs>\n      <g>\n       <use xlink:href=\"#md5b084cc50\" x=\"50.14375\" y=\"108.834513\" style=\"stroke: #000000; stroke-width: 0.8\"/>\n      </g>\n     </g>\n     <g id=\"text_7\">\n      <!-- 0.00 -->\n      <g transform=\"translate(20.878125 112.633732) scale(0.1 -0.1)\">\n       <defs>\n        <path id=\"DejaVuSans-2e\" d=\"M 684 794 \nL 1344 794 \nL 1344 0 \nL 684 0 \nL 684 794 \nz\n\" transform=\"scale(0.015625)\"/>\n       </defs>\n       <use xlink:href=\"#DejaVuSans-30\"/>\n       <use xlink:href=\"#DejaVuSans-2e\" x=\"63.623047\"/>\n       <use xlink:href=\"#DejaVuSans-30\" x=\"95.410156\"/>\n       <use xlink:href=\"#DejaVuSans-30\" x=\"159.033203\"/>\n      </g>\n     </g>\n    </g>\n    <g id=\"ytick_2\">\n     <g id=\"line2d_7\">\n      <g>\n       <use xlink:href=\"#md5b084cc50\" x=\"50.14375\" y=\"84.375689\" style=\"stroke: #000000; stroke-width: 0.8\"/>\n      </g>\n     </g>\n     <g id=\"text_8\">\n      <!-- 0.05 -->\n      <g transform=\"translate(20.878125 88.174908) scale(0.1 -0.1)\">\n       <defs>\n        <path id=\"DejaVuSans-35\" d=\"M 691 4666 \nL 3169 4666 \nL 3169 4134 \nL 1269 4134 \nL 1269 2991 \nQ 1406 3038 1543 3061 \nQ 1681 3084 1819 3084 \nQ 2600 3084 3056 2656 \nQ 3513 2228 3513 1497 \nQ 3513 744 3044 326 \nQ 2575 -91 1722 -91 \nQ 1428 -91 1123 -41 \nQ 819 9 494 109 \nL 494 744 \nQ 775 591 1075 516 \nQ 1375 441 1709 441 \nQ 2250 441 2565 725 \nQ 2881 1009 2881 1497 \nQ 2881 1984 2565 2268 \nQ 2250 2553 1709 2553 \nQ 1456 2553 1204 2497 \nQ 953 2441 691 2322 \nL 691 4666 \nz\n\" transform=\"scale(0.015625)\"/>\n       </defs>\n       <use xlink:href=\"#DejaVuSans-30\"/>\n       <use xlink:href=\"#DejaVuSans-2e\" x=\"63.623047\"/>\n       <use xlink:href=\"#DejaVuSans-30\" x=\"95.410156\"/>\n       <use xlink:href=\"#DejaVuSans-35\" x=\"159.033203\"/>\n      </g>\n     </g>\n    </g>\n    <g id=\"ytick_3\">\n     <g id=\"line2d_8\">\n      <g>\n       <use xlink:href=\"#md5b084cc50\" x=\"50.14375\" y=\"59.916866\" style=\"stroke: #000000; stroke-width: 0.8\"/>\n      </g>\n     </g>\n     <g id=\"text_9\">\n      <!-- 0.10 -->\n      <g transform=\"translate(20.878125 63.716085) scale(0.1 -0.1)\">\n       <defs>\n        <path id=\"DejaVuSans-31\" d=\"M 794 531 \nL 1825 531 \nL 1825 4091 \nL 703 3866 \nL 703 4441 \nL 1819 4666 \nL 2450 4666 \nL 2450 531 \nL 3481 531 \nL 3481 0 \nL 794 0 \nL 794 531 \nz\n\" transform=\"scale(0.015625)\"/>\n       </defs>\n       <use xlink:href=\"#DejaVuSans-30\"/>\n       <use xlink:href=\"#DejaVuSans-2e\" x=\"63.623047\"/>\n       <use xlink:href=\"#DejaVuSans-31\" x=\"95.410156\"/>\n       <use xlink:href=\"#DejaVuSans-30\" x=\"159.033203\"/>\n      </g>\n     </g>\n    </g>\n    <g id=\"ytick_4\">\n     <g id=\"line2d_9\">\n      <g>\n       <use xlink:href=\"#md5b084cc50\" x=\"50.14375\" y=\"35.458042\" style=\"stroke: #000000; stroke-width: 0.8\"/>\n      </g>\n     </g>\n     <g id=\"text_10\">\n      <!-- 0.15 -->\n      <g transform=\"translate(20.878125 39.257261) scale(0.1 -0.1)\">\n       <use xlink:href=\"#DejaVuSans-30\"/>\n       <use xlink:href=\"#DejaVuSans-2e\" x=\"63.623047\"/>\n       <use xlink:href=\"#DejaVuSans-31\" x=\"95.410156\"/>\n       <use xlink:href=\"#DejaVuSans-35\" x=\"159.033203\"/>\n      </g>\n     </g>\n    </g>\n    <g id=\"ytick_5\">\n     <g id=\"line2d_10\">\n      <g>\n       <use xlink:href=\"#md5b084cc50\" x=\"50.14375\" y=\"10.999219\" style=\"stroke: #000000; stroke-width: 0.8\"/>\n      </g>\n     </g>\n     <g id=\"text_11\">\n      <!-- 0.20 -->\n      <g transform=\"translate(20.878125 14.798438) scale(0.1 -0.1)\">\n       <use xlink:href=\"#DejaVuSans-30\"/>\n       <use xlink:href=\"#DejaVuSans-2e\" x=\"63.623047\"/>\n       <use xlink:href=\"#DejaVuSans-32\" x=\"95.410156\"/>\n       <use xlink:href=\"#DejaVuSans-30\" x=\"159.033203\"/>\n      </g>\n     </g>\n    </g>\n    <g id=\"text_12\">\n     <!-- Probability -->\n     <g transform=\"translate(14.798438 86.345772) rotate(-90) scale(0.1 -0.1)\">\n      <defs>\n       <path id=\"DejaVuSans-50\" d=\"M 1259 4147 \nL 1259 2394 \nL 2053 2394 \nQ 2494 2394 2734 2622 \nQ 2975 2850 2975 3272 \nQ 2975 3691 2734 3919 \nQ 2494 4147 2053 4147 \nL 1259 4147 \nz\nM 628 4666 \nL 2053 4666 \nQ 2838 4666 3239 4311 \nQ 3641 3956 3641 3272 \nQ 3641 2581 3239 2228 \nQ 2838 1875 2053 1875 \nL 1259 1875 \nL 1259 0 \nL 628 0 \nL 628 4666 \nz\n\" transform=\"scale(0.015625)\"/>\n       <path id=\"DejaVuSans-72\" d=\"M 2631 2963 \nQ 2534 3019 2420 3045 \nQ 2306 3072 2169 3072 \nQ 1681 3072 1420 2755 \nQ 1159 2438 1159 1844 \nL 1159 0 \nL 581 0 \nL 581 3500 \nL 1159 3500 \nL 1159 2956 \nQ 1341 3275 1631 3429 \nQ 1922 3584 2338 3584 \nQ 2397 3584 2469 3576 \nQ 2541 3569 2628 3553 \nL 2631 2963 \nz\n\" transform=\"scale(0.015625)\"/>\n       <path id=\"DejaVuSans-6f\" d=\"M 1959 3097 \nQ 1497 3097 1228 2736 \nQ 959 2375 959 1747 \nQ 959 1119 1226 758 \nQ 1494 397 1959 397 \nQ 2419 397 2687 759 \nQ 2956 1122 2956 1747 \nQ 2956 2369 2687 2733 \nQ 2419 3097 1959 3097 \nz\nM 1959 3584 \nQ 2709 3584 3137 3096 \nQ 3566 2609 3566 1747 \nQ 3566 888 3137 398 \nQ 2709 -91 1959 -91 \nQ 1206 -91 779 398 \nQ 353 888 353 1747 \nQ 353 2609 779 3096 \nQ 1206 3584 1959 3584 \nz\n\" transform=\"scale(0.015625)\"/>\n       <path id=\"DejaVuSans-62\" d=\"M 3116 1747 \nQ 3116 2381 2855 2742 \nQ 2594 3103 2138 3103 \nQ 1681 3103 1420 2742 \nQ 1159 2381 1159 1747 \nQ 1159 1113 1420 752 \nQ 1681 391 2138 391 \nQ 2594 391 2855 752 \nQ 3116 1113 3116 1747 \nz\nM 1159 2969 \nQ 1341 3281 1617 3432 \nQ 1894 3584 2278 3584 \nQ 2916 3584 3314 3078 \nQ 3713 2572 3713 1747 \nQ 3713 922 3314 415 \nQ 2916 -91 2278 -91 \nQ 1894 -91 1617 61 \nQ 1341 213 1159 525 \nL 1159 0 \nL 581 0 \nL 581 4863 \nL 1159 4863 \nL 1159 2969 \nz\n\" transform=\"scale(0.015625)\"/>\n       <path id=\"DejaVuSans-61\" d=\"M 2194 1759 \nQ 1497 1759 1228 1600 \nQ 959 1441 959 1056 \nQ 959 750 1161 570 \nQ 1363 391 1709 391 \nQ 2188 391 2477 730 \nQ 2766 1069 2766 1631 \nL 2766 1759 \nL 2194 1759 \nz\nM 3341 1997 \nL 3341 0 \nL 2766 0 \nL 2766 531 \nQ 2569 213 2275 61 \nQ 1981 -91 1556 -91 \nQ 1019 -91 701 211 \nQ 384 513 384 1019 \nQ 384 1609 779 1909 \nQ 1175 2209 1959 2209 \nL 2766 2209 \nL 2766 2266 \nQ 2766 2663 2505 2880 \nQ 2244 3097 1772 3097 \nQ 1472 3097 1187 3025 \nQ 903 2953 641 2809 \nL 641 3341 \nQ 956 3463 1253 3523 \nQ 1550 3584 1831 3584 \nQ 2591 3584 2966 3190 \nQ 3341 2797 3341 1997 \nz\n\" transform=\"scale(0.015625)\"/>\n       <path id=\"DejaVuSans-69\" d=\"M 603 3500 \nL 1178 3500 \nL 1178 0 \nL 603 0 \nL 603 3500 \nz\nM 603 4863 \nL 1178 4863 \nL 1178 4134 \nL 603 4134 \nL 603 4863 \nz\n\" transform=\"scale(0.015625)\"/>\n       <path id=\"DejaVuSans-74\" d=\"M 1172 4494 \nL 1172 3500 \nL 2356 3500 \nL 2356 3053 \nL 1172 3053 \nL 1172 1153 \nQ 1172 725 1289 603 \nQ 1406 481 1766 481 \nL 2356 481 \nL 2356 0 \nL 1766 0 \nQ 1100 0 847 248 \nQ 594 497 594 1153 \nL 594 3053 \nL 172 3053 \nL 172 3500 \nL 594 3500 \nL 594 4494 \nL 1172 4494 \nz\n\" transform=\"scale(0.015625)\"/>\n       <path id=\"DejaVuSans-79\" d=\"M 2059 -325 \nQ 1816 -950 1584 -1140 \nQ 1353 -1331 966 -1331 \nL 506 -1331 \nL 506 -850 \nL 844 -850 \nQ 1081 -850 1212 -737 \nQ 1344 -625 1503 -206 \nL 1606 56 \nL 191 3500 \nL 800 3500 \nL 1894 763 \nL 2988 3500 \nL 3597 3500 \nL 2059 -325 \nz\n\" transform=\"scale(0.015625)\"/>\n      </defs>\n      <use xlink:href=\"#DejaVuSans-50\"/>\n      <use xlink:href=\"#DejaVuSans-72\" x=\"58.552734\"/>\n      <use xlink:href=\"#DejaVuSans-6f\" x=\"97.416016\"/>\n      <use xlink:href=\"#DejaVuSans-62\" x=\"158.597656\"/>\n      <use xlink:href=\"#DejaVuSans-61\" x=\"222.074219\"/>\n      <use xlink:href=\"#DejaVuSans-62\" x=\"283.353516\"/>\n      <use xlink:href=\"#DejaVuSans-69\" x=\"346.830078\"/>\n      <use xlink:href=\"#DejaVuSans-6c\" x=\"374.613281\"/>\n      <use xlink:href=\"#DejaVuSans-69\" x=\"402.396484\"/>\n      <use xlink:href=\"#DejaVuSans-74\" x=\"430.179688\"/>\n      <use xlink:href=\"#DejaVuSans-79\" x=\"469.388672\"/>\n     </g>\n    </g>\n   </g>\n   <g id=\"patch_85\">\n    <path d=\"M 50.14375 108.834513 \nL 50.14375 10.999219 \n\" style=\"fill: none; stroke: #000000; stroke-width: 0.8; stroke-linejoin: miter; stroke-linecap: square\"/>\n   </g>\n   <g id=\"patch_86\">\n    <path d=\"M 384.94375 108.834513 \nL 384.94375 10.999219 \n\" style=\"fill: none; stroke: #000000; stroke-width: 0.8; stroke-linejoin: miter; stroke-linecap: square\"/>\n   </g>\n   <g id=\"patch_87\">\n    <path d=\"M 50.14375 108.834513 \nL 384.94375 108.834513 \n\" style=\"fill: none; stroke: #000000; stroke-width: 0.8; stroke-linejoin: miter; stroke-linecap: square\"/>\n   </g>\n   <g id=\"patch_88\">\n    <path d=\"M 50.14375 10.999219 \nL 384.94375 10.999219 \n\" style=\"fill: none; stroke: #000000; stroke-width: 0.8; stroke-linejoin: miter; stroke-linecap: square\"/>\n   </g>\n   <g id=\"legend_1\">\n    <g id=\"patch_89\">\n     <path d=\"M 309.917188 48.355469 \nL 377.94375 48.355469 \nQ 379.94375 48.355469 379.94375 46.355469 \nL 379.94375 17.999219 \nQ 379.94375 15.999219 377.94375 15.999219 \nL 309.917188 15.999219 \nQ 307.917188 15.999219 307.917188 17.999219 \nL 307.917188 46.355469 \nQ 307.917188 48.355469 309.917188 48.355469 \nz\n\" style=\"fill: #ffffff; opacity: 0.8; stroke: #cccccc; stroke-linejoin: miter\"/>\n    </g>\n    <g id=\"patch_90\">\n     <path d=\"M 311.917188 27.597656 \nL 331.917188 27.597656 \nL 331.917188 20.597656 \nL 311.917188 20.597656 \nz\n\" style=\"fill: #1b9682; opacity: 0.5; stroke: #000000; stroke-linejoin: miter\"/>\n    </g>\n    <g id=\"text_13\">\n     <!-- Carbon -->\n     <g transform=\"translate(339.917188 27.597656) scale(0.1 -0.1)\">\n      <defs>\n       <path id=\"DejaVuSans-43\" d=\"M 4122 4306 \nL 4122 3641 \nQ 3803 3938 3442 4084 \nQ 3081 4231 2675 4231 \nQ 1875 4231 1450 3742 \nQ 1025 3253 1025 2328 \nQ 1025 1406 1450 917 \nQ 1875 428 2675 428 \nQ 3081 428 3442 575 \nQ 3803 722 4122 1019 \nL 4122 359 \nQ 3791 134 3420 21 \nQ 3050 -91 2638 -91 \nQ 1578 -91 968 557 \nQ 359 1206 359 2328 \nQ 359 3453 968 4101 \nQ 1578 4750 2638 4750 \nQ 3056 4750 3426 4639 \nQ 3797 4528 4122 4306 \nz\n\" transform=\"scale(0.015625)\"/>\n      </defs>\n      <use xlink:href=\"#DejaVuSans-43\"/>\n      <use xlink:href=\"#DejaVuSans-61\" x=\"69.824219\"/>\n      <use xlink:href=\"#DejaVuSans-72\" x=\"131.103516\"/>\n      <use xlink:href=\"#DejaVuSans-62\" x=\"172.216797\"/>\n      <use xlink:href=\"#DejaVuSans-6f\" x=\"235.693359\"/>\n      <use xlink:href=\"#DejaVuSans-6e\" x=\"296.875\"/>\n     </g>\n    </g>\n    <g id=\"patch_91\">\n     <path d=\"M 311.917188 42.275781 \nL 331.917188 42.275781 \nL 331.917188 35.275781 \nL 311.917188 35.275781 \nz\n\" style=\"fill: #ba55d3; opacity: 0.5; stroke: #000000; stroke-linejoin: miter\"/>\n    </g>\n    <g id=\"text_14\">\n     <!-- Glass -->\n     <g transform=\"translate(339.917188 42.275781) scale(0.1 -0.1)\">\n      <defs>\n       <path id=\"DejaVuSans-47\" d=\"M 3809 666 \nL 3809 1919 \nL 2778 1919 \nL 2778 2438 \nL 4434 2438 \nL 4434 434 \nQ 4069 175 3628 42 \nQ 3188 -91 2688 -91 \nQ 1594 -91 976 548 \nQ 359 1188 359 2328 \nQ 359 3472 976 4111 \nQ 1594 4750 2688 4750 \nQ 3144 4750 3555 4637 \nQ 3966 4525 4313 4306 \nL 4313 3634 \nQ 3963 3931 3569 4081 \nQ 3175 4231 2741 4231 \nQ 1884 4231 1454 3753 \nQ 1025 3275 1025 2328 \nQ 1025 1384 1454 906 \nQ 1884 428 2741 428 \nQ 3075 428 3337 486 \nQ 3600 544 3809 666 \nz\n\" transform=\"scale(0.015625)\"/>\n      </defs>\n      <use xlink:href=\"#DejaVuSans-47\"/>\n      <use xlink:href=\"#DejaVuSans-6c\" x=\"77.490234\"/>\n      <use xlink:href=\"#DejaVuSans-61\" x=\"105.273438\"/>\n      <use xlink:href=\"#DejaVuSans-73\" x=\"166.552734\"/>\n      <use xlink:href=\"#DejaVuSans-73\" x=\"218.652344\"/>\n     </g>\n    </g>\n   </g>\n  </g>\n  <g id=\"axes_2\">\n   <g id=\"patch_92\">\n    <path d=\"M 293.14375 268.039219 \nC 293.14375 258.111518 291.188209 248.280351 287.389043 239.108351 \nC 283.589876 229.936351 278.020967 221.601891 271.001023 214.581946 \nC 263.981078 207.562001 255.646617 201.993093 246.474617 198.193926 \nC 237.302618 194.394759 227.471451 192.439219 217.54375 192.439219 \nC 207.616049 192.439219 197.784882 194.394759 188.612883 198.193926 \nC 179.440883 201.993093 171.106422 207.562001 164.086477 214.581946 \nC 157.066533 221.601891 151.497624 229.936351 147.698457 239.108351 \nC 143.899291 248.280351 141.94375 258.111518 141.94375 268.039219 \nC 141.94375 277.96692 143.899291 287.798086 147.698457 296.970086 \nC 151.497624 306.142086 157.066533 314.476547 164.086477 321.496491 \nC 171.106422 328.516436 179.440883 334.085345 188.612883 337.884511 \nC 197.784882 341.683678 207.616049 343.639219 217.54375 343.639219 \nC 227.471451 343.639219 237.302618 341.683678 246.474617 337.884511 \nC 255.646617 334.085345 263.981078 328.516436 271.001023 321.496491 \nC 278.020967 314.476547 283.589876 306.142086 287.389043 296.970086 \nC 291.188209 287.798086 293.14375 277.96692 293.14375 268.039219 \nM 217.54375 268.039219 \nC 217.54375 268.039219 217.54375 268.039219 217.54375 268.039219 \nC 217.54375 268.039219 217.54375 268.039219 217.54375 268.039219 \nC 217.54375 268.039219 217.54375 268.039219 217.54375 268.039219 \nC 217.54375 268.039219 217.54375 268.039219 217.54375 268.039219 \nC 217.54375 268.039219 217.54375 268.039219 217.54375 268.039219 \nC 217.54375 268.039219 217.54375 268.039219 217.54375 268.039219 \nC 217.54375 268.039219 217.54375 268.039219 217.54375 268.039219 \nC 217.54375 268.039219 217.54375 268.039219 217.54375 268.039219 \nC 217.54375 268.039219 217.54375 268.039219 217.54375 268.039219 \nC 217.54375 268.039219 217.54375 268.039219 217.54375 268.039219 \nC 217.54375 268.039219 217.54375 268.039219 217.54375 268.039219 \nC 217.54375 268.039219 217.54375 268.039219 217.54375 268.039219 \nC 217.54375 268.039219 217.54375 268.039219 217.54375 268.039219 \nC 217.54375 268.039219 217.54375 268.039219 217.54375 268.039219 \nC 217.54375 268.039219 217.54375 268.039219 217.54375 268.039219 \nC 217.54375 268.039219 217.54375 268.039219 217.54375 268.039219 \nM 293.14375 268.039219 \nz\n\" style=\"fill: #ffffff\"/>\n   </g>\n   <g id=\"matplotlib.axis_3\">\n    <g id=\"xtick_6\">\n     <g id=\"line2d_11\">\n      <path d=\"M 217.54375 268.039219 \nL 293.14375 268.039219 \n\" clip-path=\"url(#pa623f65a81)\" style=\"fill: none; stroke: #b0b0b0; stroke-width: 0.8; stroke-linecap: square\"/>\n     </g>\n     <g id=\"text_15\">\n      <!-- 0° -->\n      <g transform=\"translate(301.4625 270.798594) scale(0.1 -0.1)\">\n       <defs>\n        <path id=\"DejaVuSans-b0\" d=\"M 1600 4347 \nQ 1350 4347 1178 4173 \nQ 1006 4000 1006 3750 \nQ 1006 3503 1178 3333 \nQ 1350 3163 1600 3163 \nQ 1850 3163 2022 3333 \nQ 2194 3503 2194 3750 \nQ 2194 3997 2020 4172 \nQ 1847 4347 1600 4347 \nz\nM 1600 4750 \nQ 1800 4750 1984 4673 \nQ 2169 4597 2303 4453 \nQ 2447 4313 2519 4134 \nQ 2591 3956 2591 3750 \nQ 2591 3338 2302 3052 \nQ 2013 2766 1594 2766 \nQ 1172 2766 890 3047 \nQ 609 3328 609 3750 \nQ 609 4169 896 4459 \nQ 1184 4750 1600 4750 \nz\n\" transform=\"scale(0.015625)\"/>\n       </defs>\n       <use xlink:href=\"#DejaVuSans-30\"/>\n       <use xlink:href=\"#DejaVuSans-b0\" x=\"63.623047\"/>\n      </g>\n     </g>\n    </g>\n    <g id=\"xtick_7\">\n     <g id=\"line2d_12\">\n      <path d=\"M 217.54375 268.039219 \nL 271.001023 214.581946 \n\" clip-path=\"url(#pa623f65a81)\" style=\"fill: none; stroke: #b0b0b0; stroke-width: 0.8; stroke-linecap: square\"/>\n     </g>\n     <g id=\"text_16\">\n      <!-- 45° -->\n      <g transform=\"translate(272.038018 207.441826) scale(0.1 -0.1)\">\n       <use xlink:href=\"#DejaVuSans-34\"/>\n       <use xlink:href=\"#DejaVuSans-35\" x=\"63.623047\"/>\n       <use xlink:href=\"#DejaVuSans-b0\" x=\"127.246094\"/>\n      </g>\n     </g>\n    </g>\n    <g id=\"xtick_8\">\n     <g id=\"line2d_13\">\n      <path d=\"M 217.54375 268.039219 \nL 217.54375 192.439219 \n\" clip-path=\"url(#pa623f65a81)\" style=\"fill: none; stroke: #b0b0b0; stroke-width: 0.8; stroke-linecap: square\"/>\n     </g>\n     <g id=\"text_17\">\n      <!-- 90° -->\n      <g transform=\"translate(208.68125 181.198594) scale(0.1 -0.1)\">\n       <defs>\n        <path id=\"DejaVuSans-39\" d=\"M 703 97 \nL 703 672 \nQ 941 559 1184 500 \nQ 1428 441 1663 441 \nQ 2288 441 2617 861 \nQ 2947 1281 2994 2138 \nQ 2813 1869 2534 1725 \nQ 2256 1581 1919 1581 \nQ 1219 1581 811 2004 \nQ 403 2428 403 3163 \nQ 403 3881 828 4315 \nQ 1253 4750 1959 4750 \nQ 2769 4750 3195 4129 \nQ 3622 3509 3622 2328 \nQ 3622 1225 3098 567 \nQ 2575 -91 1691 -91 \nQ 1453 -91 1209 -44 \nQ 966 3 703 97 \nz\nM 1959 2075 \nQ 2384 2075 2632 2365 \nQ 2881 2656 2881 3163 \nQ 2881 3666 2632 3958 \nQ 2384 4250 1959 4250 \nQ 1534 4250 1286 3958 \nQ 1038 3666 1038 3163 \nQ 1038 2656 1286 2365 \nQ 1534 2075 1959 2075 \nz\n\" transform=\"scale(0.015625)\"/>\n       </defs>\n       <use xlink:href=\"#DejaVuSans-39\"/>\n       <use xlink:href=\"#DejaVuSans-30\" x=\"63.623047\"/>\n       <use xlink:href=\"#DejaVuSans-b0\" x=\"127.246094\"/>\n      </g>\n     </g>\n    </g>\n    <g id=\"xtick_9\">\n     <g id=\"line2d_14\">\n      <path d=\"M 217.54375 268.039219 \nL 164.086477 214.581946 \n\" clip-path=\"url(#pa623f65a81)\" style=\"fill: none; stroke: #b0b0b0; stroke-width: 0.8; stroke-linecap: square\"/>\n     </g>\n     <g id=\"text_18\">\n      <!-- 135° -->\n      <g transform=\"translate(142.143232 207.441826) scale(0.1 -0.1)\">\n       <defs>\n        <path id=\"DejaVuSans-33\" d=\"M 2597 2516 \nQ 3050 2419 3304 2112 \nQ 3559 1806 3559 1356 \nQ 3559 666 3084 287 \nQ 2609 -91 1734 -91 \nQ 1441 -91 1130 -33 \nQ 819 25 488 141 \nL 488 750 \nQ 750 597 1062 519 \nQ 1375 441 1716 441 \nQ 2309 441 2620 675 \nQ 2931 909 2931 1356 \nQ 2931 1769 2642 2001 \nQ 2353 2234 1838 2234 \nL 1294 2234 \nL 1294 2753 \nL 1863 2753 \nQ 2328 2753 2575 2939 \nQ 2822 3125 2822 3475 \nQ 2822 3834 2567 4026 \nQ 2313 4219 1838 4219 \nQ 1578 4219 1281 4162 \nQ 984 4106 628 3988 \nL 628 4550 \nQ 988 4650 1302 4700 \nQ 1616 4750 1894 4750 \nQ 2613 4750 3031 4423 \nQ 3450 4097 3450 3541 \nQ 3450 3153 3228 2886 \nQ 3006 2619 2597 2516 \nz\n\" transform=\"scale(0.015625)\"/>\n       </defs>\n       <use xlink:href=\"#DejaVuSans-31\"/>\n       <use xlink:href=\"#DejaVuSans-33\" x=\"63.623047\"/>\n       <use xlink:href=\"#DejaVuSans-35\" x=\"127.246094\"/>\n       <use xlink:href=\"#DejaVuSans-b0\" x=\"190.869141\"/>\n      </g>\n     </g>\n    </g>\n    <g id=\"xtick_10\">\n     <g id=\"line2d_15\">\n      <path d=\"M 217.54375 268.039219 \nL 141.94375 268.039219 \n\" clip-path=\"url(#pa623f65a81)\" style=\"fill: none; stroke: #b0b0b0; stroke-width: 0.8; stroke-linecap: square\"/>\n     </g>\n     <g id=\"text_19\">\n      <!-- 180° -->\n      <g transform=\"translate(115.9 270.798594) scale(0.1 -0.1)\">\n       <defs>\n        <path id=\"DejaVuSans-38\" d=\"M 2034 2216 \nQ 1584 2216 1326 1975 \nQ 1069 1734 1069 1313 \nQ 1069 891 1326 650 \nQ 1584 409 2034 409 \nQ 2484 409 2743 651 \nQ 3003 894 3003 1313 \nQ 3003 1734 2745 1975 \nQ 2488 2216 2034 2216 \nz\nM 1403 2484 \nQ 997 2584 770 2862 \nQ 544 3141 544 3541 \nQ 544 4100 942 4425 \nQ 1341 4750 2034 4750 \nQ 2731 4750 3128 4425 \nQ 3525 4100 3525 3541 \nQ 3525 3141 3298 2862 \nQ 3072 2584 2669 2484 \nQ 3125 2378 3379 2068 \nQ 3634 1759 3634 1313 \nQ 3634 634 3220 271 \nQ 2806 -91 2034 -91 \nQ 1263 -91 848 271 \nQ 434 634 434 1313 \nQ 434 1759 690 2068 \nQ 947 2378 1403 2484 \nz\nM 1172 3481 \nQ 1172 3119 1398 2916 \nQ 1625 2713 2034 2713 \nQ 2441 2713 2670 2916 \nQ 2900 3119 2900 3481 \nQ 2900 3844 2670 4047 \nQ 2441 4250 2034 4250 \nQ 1625 4250 1398 4047 \nQ 1172 3844 1172 3481 \nz\n\" transform=\"scale(0.015625)\"/>\n       </defs>\n       <use xlink:href=\"#DejaVuSans-31\"/>\n       <use xlink:href=\"#DejaVuSans-38\" x=\"63.623047\"/>\n       <use xlink:href=\"#DejaVuSans-30\" x=\"127.246094\"/>\n       <use xlink:href=\"#DejaVuSans-b0\" x=\"190.869141\"/>\n      </g>\n     </g>\n    </g>\n    <g id=\"xtick_11\">\n     <g id=\"line2d_16\">\n      <path d=\"M 217.54375 268.039219 \nL 164.086477 321.496491 \n\" clip-path=\"url(#pa623f65a81)\" style=\"fill: none; stroke: #b0b0b0; stroke-width: 0.8; stroke-linecap: square\"/>\n     </g>\n     <g id=\"text_20\">\n      <!-- 225° -->\n      <g transform=\"translate(142.143232 334.155361) scale(0.1 -0.1)\">\n       <use xlink:href=\"#DejaVuSans-32\"/>\n       <use xlink:href=\"#DejaVuSans-32\" x=\"63.623047\"/>\n       <use xlink:href=\"#DejaVuSans-35\" x=\"127.246094\"/>\n       <use xlink:href=\"#DejaVuSans-b0\" x=\"190.869141\"/>\n      </g>\n     </g>\n    </g>\n    <g id=\"xtick_12\">\n     <g id=\"line2d_17\">\n      <path d=\"M 217.54375 268.039219 \nL 217.54375 343.639219 \n\" clip-path=\"url(#pa623f65a81)\" style=\"fill: none; stroke: #b0b0b0; stroke-width: 0.8; stroke-linecap: square\"/>\n     </g>\n     <g id=\"text_21\">\n      <!-- 270° -->\n      <g transform=\"translate(205.5 360.398594) scale(0.1 -0.1)\">\n       <defs>\n        <path id=\"DejaVuSans-37\" d=\"M 525 4666 \nL 3525 4666 \nL 3525 4397 \nL 1831 0 \nL 1172 0 \nL 2766 4134 \nL 525 4134 \nL 525 4666 \nz\n\" transform=\"scale(0.015625)\"/>\n       </defs>\n       <use xlink:href=\"#DejaVuSans-32\"/>\n       <use xlink:href=\"#DejaVuSans-37\" x=\"63.623047\"/>\n       <use xlink:href=\"#DejaVuSans-30\" x=\"127.246094\"/>\n       <use xlink:href=\"#DejaVuSans-b0\" x=\"190.869141\"/>\n      </g>\n     </g>\n    </g>\n    <g id=\"xtick_13\">\n     <g id=\"line2d_18\">\n      <path d=\"M 217.54375 268.039219 \nL 271.001023 321.496491 \n\" clip-path=\"url(#pa623f65a81)\" style=\"fill: none; stroke: #b0b0b0; stroke-width: 0.8; stroke-linecap: square\"/>\n     </g>\n     <g id=\"text_22\">\n      <!-- 315° -->\n      <g transform=\"translate(268.856768 334.155361) scale(0.1 -0.1)\">\n       <use xlink:href=\"#DejaVuSans-33\"/>\n       <use xlink:href=\"#DejaVuSans-31\" x=\"63.623047\"/>\n       <use xlink:href=\"#DejaVuSans-35\" x=\"127.246094\"/>\n       <use xlink:href=\"#DejaVuSans-b0\" x=\"190.869141\"/>\n      </g>\n     </g>\n    </g>\n   </g>\n   <g id=\"matplotlib.axis_4\">\n    <g id=\"ytick_6\">\n     <g id=\"line2d_19\">\n      <path d=\"M 230.14375 268.039219 \nC 230.14375 266.384602 229.817827 264.746074 229.184632 263.217408 \nC 228.551438 261.688741 227.623286 260.299664 226.453295 259.129673 \nC 225.283305 257.959683 223.894228 257.031531 222.365561 256.398337 \nC 220.836895 255.765142 219.198367 255.439219 217.54375 255.439219 \nC 215.889133 255.439219 214.250605 255.765142 212.721939 256.398337 \nC 211.193272 257.031531 209.804195 257.959683 208.634205 259.129673 \nC 207.464214 260.299664 206.536062 261.688741 205.902868 263.217408 \nC 205.269673 264.746074 204.94375 266.384602 204.94375 268.039219 \nC 204.94375 269.693836 205.269673 271.332363 205.902868 272.86103 \nC 206.536062 274.389697 207.464214 275.778773 208.634205 276.948764 \nC 209.804195 278.118755 211.193272 279.046906 212.721939 279.680101 \nC 214.250605 280.313295 215.889133 280.639219 217.54375 280.639219 \nC 219.198367 280.639219 220.836895 280.313295 222.365561 279.680101 \nC 223.894228 279.046906 225.283305 278.118755 226.453295 276.948764 \nC 227.623286 275.778773 228.551438 274.389697 229.184632 272.86103 \nC 229.817827 271.332363 230.14375 269.693836 230.14375 268.039219 \n\" clip-path=\"url(#pa623f65a81)\" style=\"fill: none; stroke: #b0b0b0; stroke-width: 0.8; stroke-linecap: square\"/>\n     </g>\n     <g id=\"text_23\">\n      <!-- 1 -->\n      <g transform=\"translate(229.184632 261.13772) scale(0.1 -0.1)\">\n       <use xlink:href=\"#DejaVuSans-31\"/>\n      </g>\n     </g>\n    </g>\n    <g id=\"ytick_7\">\n     <g id=\"line2d_20\">\n      <path d=\"M 242.74375 268.039219 \nC 242.74375 264.729985 242.091903 261.45293 240.825514 258.395596 \nC 239.559125 255.338263 237.702822 252.560109 235.362841 250.220128 \nC 233.022859 247.880146 230.244706 246.023843 227.187372 244.757455 \nC 224.130039 243.491066 220.852984 242.839219 217.54375 242.839219 \nC 214.234516 242.839219 210.957461 243.491066 207.900128 244.757455 \nC 204.842794 246.023843 202.064641 247.880146 199.724659 250.220128 \nC 197.384678 252.560109 195.528375 255.338263 194.261986 258.395596 \nC 192.995597 261.45293 192.34375 264.729985 192.34375 268.039219 \nC 192.34375 271.348452 192.995597 274.625508 194.261986 277.682841 \nC 195.528375 280.740175 197.384678 283.518328 199.724659 285.85831 \nC 202.064641 288.198291 204.842794 290.054594 207.900128 291.320983 \nC 210.957461 292.587372 214.234516 293.239219 217.54375 293.239219 \nC 220.852984 293.239219 224.130039 292.587372 227.187372 291.320983 \nC 230.244706 290.054594 233.022859 288.198291 235.362841 285.85831 \nC 237.702822 283.518328 239.559125 280.740175 240.825514 277.682841 \nC 242.091903 274.625508 242.74375 271.348452 242.74375 268.039219 \n\" clip-path=\"url(#pa623f65a81)\" style=\"fill: none; stroke: #b0b0b0; stroke-width: 0.8; stroke-linecap: square\"/>\n     </g>\n     <g id=\"text_24\">\n      <!-- 2 -->\n      <g transform=\"translate(240.825514 256.315909) scale(0.1 -0.1)\">\n       <use xlink:href=\"#DejaVuSans-32\"/>\n      </g>\n     </g>\n    </g>\n    <g id=\"ytick_8\">\n     <g id=\"line2d_21\">\n      <path d=\"M 255.34375 268.039219 \nC 255.34375 263.075368 254.36598 258.159785 252.466396 253.573785 \nC 250.566813 248.987785 247.782359 244.820555 244.272386 241.310582 \nC 240.762414 237.80061 236.595184 235.016156 232.009184 233.116572 \nC 227.423184 231.216989 222.507601 230.239219 217.54375 230.239219 \nC 212.579899 230.239219 207.664316 231.216989 203.078316 233.116572 \nC 198.492316 235.016156 194.325086 237.80061 190.815114 241.310582 \nC 187.305141 244.820555 184.520687 248.987785 182.621104 253.573785 \nC 180.72152 258.159785 179.74375 263.075368 179.74375 268.039219 \nC 179.74375 273.003069 180.72152 277.918653 182.621104 282.504652 \nC 184.520687 287.090652 187.305141 291.257883 190.815114 294.767855 \nC 194.325086 298.277827 198.492316 301.062282 203.078316 302.961865 \nC 207.664316 304.861448 212.579899 305.839219 217.54375 305.839219 \nC 222.507601 305.839219 227.423184 304.861448 232.009184 302.961865 \nC 236.595184 301.062282 240.762414 298.277827 244.272386 294.767855 \nC 247.782359 291.257883 250.566813 287.090652 252.466396 282.504652 \nC 254.36598 277.918653 255.34375 273.003069 255.34375 268.039219 \n\" clip-path=\"url(#pa623f65a81)\" style=\"fill: none; stroke: #b0b0b0; stroke-width: 0.8; stroke-linecap: square\"/>\n     </g>\n     <g id=\"text_25\">\n      <!-- 3 -->\n      <g transform=\"translate(252.466396 251.494098) scale(0.1 -0.1)\">\n       <use xlink:href=\"#DejaVuSans-33\"/>\n      </g>\n     </g>\n    </g>\n    <g id=\"ytick_9\">\n     <g id=\"line2d_22\">\n      <path d=\"M 267.94375 268.039219 \nC 267.94375 261.420751 266.640056 254.86664 264.107278 248.751974 \nC 261.574501 242.637307 257.861895 237.081 253.181932 232.401037 \nC 248.501969 227.721074 242.945662 224.008468 236.830995 221.47569 \nC 230.716328 218.942913 224.162217 217.639219 217.54375 217.639219 \nC 210.925283 217.639219 204.371172 218.942913 198.256505 221.47569 \nC 192.141838 224.008468 186.585531 227.721074 181.905568 232.401037 \nC 177.225605 237.081 173.512999 242.637307 170.980222 248.751974 \nC 168.447444 254.86664 167.14375 261.420751 167.14375 268.039219 \nC 167.14375 274.657686 168.447444 281.211797 170.980222 287.326464 \nC 173.512999 293.44113 177.225605 298.997437 181.905568 303.677401 \nC 186.585531 308.357364 192.141838 312.069969 198.256505 314.602747 \nC 204.371172 317.135525 210.925283 318.439219 217.54375 318.439219 \nC 224.162217 318.439219 230.716328 317.135525 236.830995 314.602747 \nC 242.945662 312.069969 248.501969 308.357364 253.181932 303.677401 \nC 257.861895 298.997437 261.574501 293.44113 264.107278 287.326464 \nC 266.640056 281.211797 267.94375 274.657686 267.94375 268.039219 \n\" clip-path=\"url(#pa623f65a81)\" style=\"fill: none; stroke: #b0b0b0; stroke-width: 0.8; stroke-linecap: square\"/>\n     </g>\n     <g id=\"text_26\">\n      <!-- 4 -->\n      <g transform=\"translate(264.107278 246.672286) scale(0.1 -0.1)\">\n       <use xlink:href=\"#DejaVuSans-34\"/>\n      </g>\n     </g>\n    </g>\n    <g id=\"ytick_10\">\n     <g id=\"line2d_23\">\n      <path d=\"M 280.54375 268.039219 \nC 280.54375 259.766135 278.914133 251.573496 275.748161 243.930163 \nC 272.582188 236.286829 267.941431 229.341445 262.091477 223.491492 \nC 256.241523 217.641538 249.296139 213.00078 241.652806 209.834808 \nC 234.009473 206.668836 225.816834 205.039219 217.54375 205.039219 \nC 209.270666 205.039219 201.078027 206.668836 193.434694 209.834808 \nC 185.791361 213.00078 178.845977 217.641538 172.996023 223.491492 \nC 167.146069 229.341445 162.505312 236.286829 159.339339 243.930163 \nC 156.173367 251.573496 154.54375 259.766135 154.54375 268.039219 \nC 154.54375 276.312303 156.173367 284.504942 159.339339 292.148275 \nC 162.505312 299.791608 167.146069 306.736992 172.996023 312.586946 \nC 178.845977 318.4369 185.791361 323.077657 193.434694 326.243629 \nC 201.078027 329.409602 209.270666 331.039219 217.54375 331.039219 \nC 225.816834 331.039219 234.009473 329.409602 241.652806 326.243629 \nC 249.296139 323.077657 256.241523 318.4369 262.091477 312.586946 \nC 267.941431 306.736992 272.582188 299.791608 275.748161 292.148275 \nC 278.914133 284.504942 280.54375 276.312303 280.54375 268.039219 \n\" clip-path=\"url(#pa623f65a81)\" style=\"fill: none; stroke: #b0b0b0; stroke-width: 0.8; stroke-linecap: square\"/>\n     </g>\n     <g id=\"text_27\">\n      <!-- 5 -->\n      <g transform=\"translate(275.748161 241.850475) scale(0.1 -0.1)\">\n       <use xlink:href=\"#DejaVuSans-35\"/>\n      </g>\n     </g>\n    </g>\n    <g id=\"ytick_11\">\n     <g id=\"line2d_24\">\n      <path d=\"M 293.14375 268.039219 \nC 293.14375 258.111518 291.188209 248.280351 287.389043 239.108351 \nC 283.589876 229.936351 278.020967 221.601891 271.001023 214.581946 \nC 263.981078 207.562001 255.646617 201.993093 246.474617 198.193926 \nC 237.302618 194.394759 227.471451 192.439219 217.54375 192.439219 \nC 207.616049 192.439219 197.784882 194.394759 188.612883 198.193926 \nC 179.440883 201.993093 171.106422 207.562001 164.086477 214.581946 \nC 157.066533 221.601891 151.497624 229.936351 147.698457 239.108351 \nC 143.899291 248.280351 141.94375 258.111518 141.94375 268.039219 \nC 141.94375 277.96692 143.899291 287.798086 147.698457 296.970086 \nC 151.497624 306.142086 157.066533 314.476547 164.086477 321.496491 \nC 171.106422 328.516436 179.440883 334.085345 188.612883 337.884511 \nC 197.784882 341.683678 207.616049 343.639219 217.54375 343.639219 \nC 227.471451 343.639219 237.302618 341.683678 246.474617 337.884511 \nC 255.646617 334.085345 263.981078 328.516436 271.001023 321.496491 \nC 278.020967 314.476547 283.589876 306.142086 287.389043 296.970086 \nC 291.188209 287.798086 293.14375 277.96692 293.14375 268.039219 \n\" clip-path=\"url(#pa623f65a81)\" style=\"fill: none; stroke: #b0b0b0; stroke-width: 0.8; stroke-linecap: square\"/>\n     </g>\n     <g id=\"text_28\">\n      <!-- 6 -->\n      <g transform=\"translate(287.389043 237.028664) scale(0.1 -0.1)\">\n       <defs>\n        <path id=\"DejaVuSans-36\" d=\"M 2113 2584 \nQ 1688 2584 1439 2293 \nQ 1191 2003 1191 1497 \nQ 1191 994 1439 701 \nQ 1688 409 2113 409 \nQ 2538 409 2786 701 \nQ 3034 994 3034 1497 \nQ 3034 2003 2786 2293 \nQ 2538 2584 2113 2584 \nz\nM 3366 4563 \nL 3366 3988 \nQ 3128 4100 2886 4159 \nQ 2644 4219 2406 4219 \nQ 1781 4219 1451 3797 \nQ 1122 3375 1075 2522 \nQ 1259 2794 1537 2939 \nQ 1816 3084 2150 3084 \nQ 2853 3084 3261 2657 \nQ 3669 2231 3669 1497 \nQ 3669 778 3244 343 \nQ 2819 -91 2113 -91 \nQ 1303 -91 875 529 \nQ 447 1150 447 2328 \nQ 447 3434 972 4092 \nQ 1497 4750 2381 4750 \nQ 2619 4750 2861 4703 \nQ 3103 4656 3366 4563 \nz\n\" transform=\"scale(0.015625)\"/>\n       </defs>\n       <use xlink:href=\"#DejaVuSans-36\"/>\n      </g>\n     </g>\n    </g>\n    <g id=\"text_29\">\n     <!-- 1e10 -->\n     <g transform=\"translate(141.94375 189.439219) scale(0.1 -0.1)\">\n      <use xlink:href=\"#DejaVuSans-31\"/>\n      <use xlink:href=\"#DejaVuSans-65\" x=\"63.623047\"/>\n      <use xlink:href=\"#DejaVuSans-31\" x=\"125.146484\"/>\n      <use xlink:href=\"#DejaVuSans-30\" x=\"188.769531\"/>\n     </g>\n    </g>\n   </g>\n   <g id=\"line2d_25\">\n    <path d=\"M 255.531751 268.039219 \nL 255.500362 266.846384 \nL 255.160887 265.672549 \nL 254.52042 264.543894 \nL 253.595034 263.484882 \nL 252.409401 262.517042 \nL 250.995864 261.657887 \nL 249.392948 260.920079 \nL 247.643376 260.310948 \nL 245.791743 259.832418 \nL 243.882115 259.481365 \nL 240.049614 259.128517 \nL 236.4151 259.159035 \nL 233.149932 259.459647 \nL 230.331322 259.923979 \nL 226.942883 260.748504 \nL 223.754499 261.82847 \nL 221.261729 262.92186 \nL 217.76431 264.53352 \nL 217.096354 264.497718 \nL 216.29798 264.205133 \nL 210.814412 261.71995 \nL 208.411178 260.95527 \nL 205.191961 260.200535 \nL 202.52477 259.782465 \nL 199.435903 259.518313 \nL 195.982872 259.502663 \nL 192.29995 259.837011 \nL 190.437329 260.164076 \nL 188.604934 260.608994 \nL 186.840487 261.176226 \nL 185.183662 261.866202 \nL 183.674439 262.674847 \nL 182.351405 263.593392 \nL 181.25009 264.608458 \nL 180.401462 265.702424 \nL 179.83063 266.854036 \nL 179.555749 268.039219 \nL 179.587138 269.232053 \nL 179.926613 270.405888 \nL 180.56708 271.534543 \nL 181.492466 272.593555 \nL 182.678099 273.561395 \nL 184.091636 274.420551 \nL 185.694552 275.158358 \nL 187.444124 275.767489 \nL 189.295757 276.246019 \nL 191.205385 276.597072 \nL 195.037886 276.949921 \nL 198.6724 276.919402 \nL 201.937568 276.61879 \nL 204.756178 276.154459 \nL 208.144617 275.329933 \nL 211.333001 274.249968 \nL 213.825771 273.156577 \nL 217.32319 271.544917 \nL 217.991146 271.58072 \nL 218.78952 271.873305 \nL 224.273088 274.358487 \nL 226.676322 275.123168 \nL 229.895539 275.877903 \nL 232.56273 276.295973 \nL 235.651597 276.560125 \nL 239.104628 276.575774 \nL 242.78755 276.241427 \nL 244.650171 275.914362 \nL 246.482566 275.469444 \nL 248.247013 274.902211 \nL 249.903838 274.212236 \nL 251.413061 273.403591 \nL 252.736095 272.485046 \nL 253.83741 271.46998 \nL 254.686038 270.376013 \nL 255.25687 269.224401 \nL 255.531751 268.039219 \nL 255.531751 268.039219 \n\" clip-path=\"url(#pa623f65a81)\" style=\"fill: none; stroke: #1f77b4; stroke-width: 1.5; stroke-linecap: square\"/>\n   </g>\n   <g id=\"line2d_26\">\n    <path d=\"M 251.866016 268.039219 \nL 251.85931 267.176593 \nL 251.636441 266.324088 \nL 251.203107 265.496543 \nL 250.571165 264.70771 \nL 249.528672 263.794244 \nL 248.245997 262.978514 \nL 246.459524 262.145726 \nL 244.48777 261.480938 \nL 242.066746 260.91463 \nL 239.282434 260.520022 \nL 236.283157 260.345985 \nL 233.251176 260.405326 \nL 230.124321 260.705389 \nL 227.185052 261.217847 \nL 224.371808 261.942803 \nL 221.782432 262.849482 \nL 217.498697 264.454235 \nL 216.763742 264.331404 \nL 215.539429 263.848372 \nL 212.321698 262.547853 \nL 209.800986 261.796057 \nL 207.096625 261.223626 \nL 204.266637 260.848327 \nL 201.381384 260.680416 \nL 198.381559 260.729553 \nL 195.437272 261.009641 \nL 192.719392 261.498878 \nL 190.364295 262.142948 \nL 188.449448 262.867212 \nL 186.71544 263.750468 \nL 185.470424 264.600245 \nL 184.458878 265.53994 \nL 183.723848 266.550782 \nL 183.35807 267.394758 \nL 183.202828 268.254992 \nL 183.263754 269.116511 \nL 183.540023 269.964136 \nL 184.024348 270.783236 \nL 184.901573 271.746783 \nL 186.045741 272.623053 \nL 187.410883 273.395848 \nL 189.269016 274.173098 \nL 191.283127 274.781801 \nL 193.720446 275.286376 \nL 196.488511 275.619571 \nL 199.439249 275.739044 \nL 202.397417 275.637168 \nL 205.428518 275.307278 \nL 208.264695 274.780847 \nL 210.972142 274.056769 \nL 213.540365 273.133928 \nL 217.49869 271.624794 \nL 218.221634 271.718252 \nL 219.312677 272.126968 \nL 222.965119 273.598583 \nL 225.433237 274.319298 \nL 228.187146 274.887908 \nL 231.064341 275.252478 \nL 233.990689 275.403181 \nL 237.023333 275.330088 \nL 239.987141 275.020963 \nL 242.708461 274.500418 \nL 245.051366 273.825955 \nL 246.941904 273.0749 \nL 248.637465 272.165914 \nL 249.839542 271.296928 \nL 250.798989 270.341323 \nL 251.474293 269.318976 \nL 251.788306 268.469571 \nL 251.866016 268.039219 \nL 251.866016 268.039219 \n\" clip-path=\"url(#pa623f65a81)\" style=\"fill: none; stroke: #ff7f0e; stroke-width: 1.5; stroke-linecap: square\"/>\n   </g>\n   <g id=\"patch_93\">\n    <path d=\"M 293.14375 268.039219 \nC 293.14375 258.111518 291.188209 248.280351 287.389043 239.108351 \nC 283.589876 229.936351 278.020967 221.601891 271.001023 214.581946 \nC 263.981078 207.562001 255.646617 201.993093 246.474617 198.193926 \nC 237.302618 194.394759 227.471451 192.439219 217.54375 192.439219 \nC 207.616049 192.439219 197.784882 194.394759 188.612883 198.193926 \nC 179.440883 201.993093 171.106422 207.562001 164.086477 214.581946 \nC 157.066533 221.601891 151.497624 229.936351 147.698457 239.108351 \nC 143.899291 248.280351 141.94375 258.111518 141.94375 268.039219 \nC 141.94375 277.96692 143.899291 287.798086 147.698457 296.970086 \nC 151.497624 306.142086 157.066533 314.476547 164.086477 321.496491 \nC 171.106422 328.516436 179.440883 334.085345 188.612883 337.884511 \nC 197.784882 341.683678 207.616049 343.639219 217.54375 343.639219 \nC 227.471451 343.639219 237.302618 341.683678 246.474617 337.884511 \nC 255.646617 334.085345 263.981078 328.516436 271.001023 321.496491 \nC 278.020967 314.476547 283.589876 306.142086 287.389043 296.970086 \nC 291.188209 287.798086 293.14375 277.96692 293.14375 268.039219 \n\" style=\"fill: none; stroke: #000000; stroke-width: 0.8; stroke-linejoin: miter; stroke-linecap: square\"/>\n   </g>\n   <g id=\"legend_2\">\n    <g id=\"patch_94\">\n     <path d=\"M 203.204688 229.795469 \nL 286.14375 229.795469 \nQ 288.14375 229.795469 288.14375 227.795469 \nL 288.14375 199.439219 \nQ 288.14375 197.439219 286.14375 197.439219 \nL 203.204688 197.439219 \nQ 201.204688 197.439219 201.204688 199.439219 \nL 201.204688 227.795469 \nQ 201.204688 229.795469 203.204688 229.795469 \nz\n\" style=\"fill: #ffffff; opacity: 0.8; stroke: #cccccc; stroke-linejoin: miter\"/>\n    </g>\n    <g id=\"line2d_27\">\n     <path d=\"M 205.204688 205.537656 \nL 215.204688 205.537656 \nL 225.204688 205.537656 \n\" style=\"fill: none; stroke: #1f77b4; stroke-width: 1.5; stroke-linecap: square\"/>\n    </g>\n    <g id=\"text_30\">\n     <!-- MT Hybrid -->\n     <g transform=\"translate(233.204688 209.037656) scale(0.1 -0.1)\">\n      <defs>\n       <path id=\"DejaVuSans-4d\" d=\"M 628 4666 \nL 1569 4666 \nL 2759 1491 \nL 3956 4666 \nL 4897 4666 \nL 4897 0 \nL 4281 0 \nL 4281 4097 \nL 3078 897 \nL 2444 897 \nL 1241 4097 \nL 1241 0 \nL 628 0 \nL 628 4666 \nz\n\" transform=\"scale(0.015625)\"/>\n       <path id=\"DejaVuSans-54\" d=\"M -19 4666 \nL 3928 4666 \nL 3928 4134 \nL 2272 4134 \nL 2272 0 \nL 1638 0 \nL 1638 4134 \nL -19 4134 \nL -19 4666 \nz\n\" transform=\"scale(0.015625)\"/>\n       <path id=\"DejaVuSans-20\" transform=\"scale(0.015625)\"/>\n       <path id=\"DejaVuSans-48\" d=\"M 628 4666 \nL 1259 4666 \nL 1259 2753 \nL 3553 2753 \nL 3553 4666 \nL 4184 4666 \nL 4184 0 \nL 3553 0 \nL 3553 2222 \nL 1259 2222 \nL 1259 0 \nL 628 0 \nL 628 4666 \nz\n\" transform=\"scale(0.015625)\"/>\n       <path id=\"DejaVuSans-64\" d=\"M 2906 2969 \nL 2906 4863 \nL 3481 4863 \nL 3481 0 \nL 2906 0 \nL 2906 525 \nQ 2725 213 2448 61 \nQ 2172 -91 1784 -91 \nQ 1150 -91 751 415 \nQ 353 922 353 1747 \nQ 353 2572 751 3078 \nQ 1150 3584 1784 3584 \nQ 2172 3584 2448 3432 \nQ 2725 3281 2906 2969 \nz\nM 947 1747 \nQ 947 1113 1208 752 \nQ 1469 391 1925 391 \nQ 2381 391 2643 752 \nQ 2906 1113 2906 1747 \nQ 2906 2381 2643 2742 \nQ 2381 3103 1925 3103 \nQ 1469 3103 1208 2742 \nQ 947 2381 947 1747 \nz\n\" transform=\"scale(0.015625)\"/>\n      </defs>\n      <use xlink:href=\"#DejaVuSans-4d\"/>\n      <use xlink:href=\"#DejaVuSans-54\" x=\"86.279297\"/>\n      <use xlink:href=\"#DejaVuSans-20\" x=\"147.363281\"/>\n      <use xlink:href=\"#DejaVuSans-48\" x=\"179.150391\"/>\n      <use xlink:href=\"#DejaVuSans-79\" x=\"254.345703\"/>\n      <use xlink:href=\"#DejaVuSans-62\" x=\"313.525391\"/>\n      <use xlink:href=\"#DejaVuSans-72\" x=\"377.001953\"/>\n      <use xlink:href=\"#DejaVuSans-69\" x=\"418.115234\"/>\n      <use xlink:href=\"#DejaVuSans-64\" x=\"445.898438\"/>\n     </g>\n    </g>\n    <g id=\"line2d_28\">\n     <path d=\"M 205.204688 220.215781 \nL 215.204688 220.215781 \nL 225.204688 220.215781 \n\" style=\"fill: none; stroke: #ff7f0e; stroke-width: 1.5; stroke-linecap: square\"/>\n    </g>\n    <g id=\"text_31\">\n     <!-- HT Hybrid -->\n     <g transform=\"translate(233.204688 223.715781) scale(0.1 -0.1)\">\n      <use xlink:href=\"#DejaVuSans-48\"/>\n      <use xlink:href=\"#DejaVuSans-54\" x=\"75.195312\"/>\n      <use xlink:href=\"#DejaVuSans-20\" x=\"136.279297\"/>\n      <use xlink:href=\"#DejaVuSans-48\" x=\"168.066406\"/>\n      <use xlink:href=\"#DejaVuSans-79\" x=\"243.261719\"/>\n      <use xlink:href=\"#DejaVuSans-62\" x=\"302.441406\"/>\n      <use xlink:href=\"#DejaVuSans-72\" x=\"365.917969\"/>\n      <use xlink:href=\"#DejaVuSans-69\" x=\"407.03125\"/>\n      <use xlink:href=\"#DejaVuSans-64\" x=\"434.814453\"/>\n     </g>\n    </g>\n   </g>\n  </g>\n </g>\n <defs>\n  <clipPath id=\"pe4dabd1cd1\">\n   <rect x=\"50.14375\" y=\"10.999219\" width=\"334.8\" height=\"97.835294\"/>\n  </clipPath>\n  <clipPath id=\"pa623f65a81\">\n   <path d=\"M 293.14375 268.039219 \nC 293.14375 258.111518 291.188209 248.280351 287.389043 239.108351 \nC 283.589876 229.936351 278.020967 221.601891 271.001023 214.581946 \nC 263.981078 207.562001 255.646617 201.993093 246.474617 198.193926 \nC 237.302618 194.394759 227.471451 192.439219 217.54375 192.439219 \nC 207.616049 192.439219 197.784882 194.394759 188.612883 198.193926 \nC 179.440883 201.993093 171.106422 207.562001 164.086477 214.581946 \nC 157.066533 221.601891 151.497624 229.936351 147.698457 239.108351 \nC 143.899291 248.280351 141.94375 258.111518 141.94375 268.039219 \nC 141.94375 277.96692 143.899291 287.798086 147.698457 296.970086 \nC 151.497624 306.142086 157.066533 314.476547 164.086477 321.496491 \nC 171.106422 328.516436 179.440883 334.085345 188.612883 337.884511 \nC 197.784882 341.683678 207.616049 343.639219 217.54375 343.639219 \nC 227.471451 343.639219 237.302618 341.683678 246.474617 337.884511 \nC 255.646617 334.085345 263.981078 328.516436 271.001023 321.496491 \nC 278.020967 314.476547 283.589876 306.142086 287.389043 296.970086 \nC 291.188209 287.798086 293.14375 277.96692 293.14375 268.039219 \nM 217.54375 268.039219 \nC 217.54375 268.039219 217.54375 268.039219 217.54375 268.039219 \nC 217.54375 268.039219 217.54375 268.039219 217.54375 268.039219 \nC 217.54375 268.039219 217.54375 268.039219 217.54375 268.039219 \nC 217.54375 268.039219 217.54375 268.039219 217.54375 268.039219 \nC 217.54375 268.039219 217.54375 268.039219 217.54375 268.039219 \nC 217.54375 268.039219 217.54375 268.039219 217.54375 268.039219 \nC 217.54375 268.039219 217.54375 268.039219 217.54375 268.039219 \nC 217.54375 268.039219 217.54375 268.039219 217.54375 268.039219 \nC 217.54375 268.039219 217.54375 268.039219 217.54375 268.039219 \nC 217.54375 268.039219 217.54375 268.039219 217.54375 268.039219 \nC 217.54375 268.039219 217.54375 268.039219 217.54375 268.039219 \nC 217.54375 268.039219 217.54375 268.039219 217.54375 268.039219 \nC 217.54375 268.039219 217.54375 268.039219 217.54375 268.039219 \nC 217.54375 268.039219 217.54375 268.039219 217.54375 268.039219 \nC 217.54375 268.039219 217.54375 268.039219 217.54375 268.039219 \nC 217.54375 268.039219 217.54375 268.039219 217.54375 268.039219 \nM 293.14375 268.039219 \nz\n\"/>\n  </clipPath>\n </defs>\n</svg>\n",
          "text/plain": "<Figure size 600x600 with 2 Axes>"
         },
         "metadata": {},
         "output_type": "display_data"
        }
       ]
      }
     },
     "beab380da6a14f029af1444c2197bad3": {
      "model_module": "@jupyter-widgets/base",
      "model_module_version": "2.0.0",
      "model_name": "LayoutModel",
      "state": {
       "width": "180px"
      }
     },
     "bf3aae04c5e64fce92877896cd471af6": {
      "model_module": "@jupyter-widgets/base",
      "model_module_version": "2.0.0",
      "model_name": "LayoutModel",
      "state": {
       "width": "250px"
      }
     },
     "c3f242ca9f8d41d3920387a9b4baf235": {
      "model_module": "@jupyter-widgets/base",
      "model_module_version": "2.0.0",
      "model_name": "LayoutModel",
      "state": {}
     },
     "c5d5e36732ab4c0282c625f40a504c61": {
      "model_module": "@jupyter-widgets/base",
      "model_module_version": "2.0.0",
      "model_name": "LayoutModel",
      "state": {}
     },
     "cfcaf313e43d4205a51cb43e1def732a": {
      "model_module": "@jupyter-widgets/base",
      "model_module_version": "2.0.0",
      "model_name": "LayoutModel",
      "state": {
       "width": "250px"
      }
     },
     "f480ca414a9d4918bd45c6f84b4532f6": {
      "model_module": "@jupyter-widgets/controls",
      "model_module_version": "2.0.0",
      "model_name": "HBoxModel",
      "state": {
       "children": [
        "IPY_MODEL_6a08f6d70e9848fea8b75918ad07db17",
        "IPY_MODEL_8b05dd07becf479a9a9d8c2474cc136b",
        "IPY_MODEL_6f9e45c3bcd44f6cabb3c24c91b25b51",
        "IPY_MODEL_6bc1fdb055b94dbf8d52e90bc5ded594"
       ],
       "layout": "IPY_MODEL_c3f242ca9f8d41d3920387a9b4baf235"
      }
     },
     "fc1edd9d3dd0497facdd379821c299ae": {
      "model_module": "@jupyter-widgets/controls",
      "model_module_version": "2.0.0",
      "model_name": "SliderStyleModel",
      "state": {
       "description_width": "initial"
      }
     },
     "fef3e71b7970415caec7e600531be1c2": {
      "model_module": "@jupyter-widgets/base",
      "model_module_version": "2.0.0",
      "model_name": "LayoutModel",
      "state": {
       "width": "180px"
      }
     }
    },
    "version_major": 2,
    "version_minor": 0
   }
  }
 },
 "nbformat": 4,
 "nbformat_minor": 5
}
